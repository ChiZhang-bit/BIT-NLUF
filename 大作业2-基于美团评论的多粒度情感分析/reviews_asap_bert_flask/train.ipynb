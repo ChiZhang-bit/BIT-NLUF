{
 "cells": [
  {
   "cell_type": "code",
   "execution_count": 1,
   "metadata": {
    "Collapsed": "false"
   },
   "outputs": [
    {
     "name": "stderr",
     "output_type": "stream",
     "text": [
      "Using TensorFlow backend.\n"
     ]
    }
   ],
   "source": [
    "import numpy as np\n",
    "import pandas as pd\n",
    "from bert4keras.backend import keras, set_gelu, search_layer, K\n",
    "from bert4keras.tokenizers import Tokenizer\n",
    "from bert4keras.models import build_transformer_model\n",
    "from bert4keras.optimizers import Adam, extend_with_piecewise_linear_lr\n",
    "from bert4keras.snippets import sequence_padding\n",
    "\n",
    "from keras.layers import Lambda, Dense, Dropout\n",
    "from keras.utils import to_categorical\n",
    "\n",
    "from sklearn.model_selection import train_test_split\n",
    "from sklearn.metrics import classification_report, f1_score\n",
    "from tqdm import tqdm"
   ]
  },
  {
   "cell_type": "code",
   "execution_count": 2,
   "metadata": {
    "Collapsed": "false"
   },
   "outputs": [
    {
     "name": "stderr",
     "output_type": "stream",
     "text": [
      "2021-10-25 20:10:15.404659: I tensorflow/core/platform/cpu_feature_guard.cc:142] Your CPU supports instructions that this TensorFlow binary was not compiled to use: AVX2 AVX512F FMA\n",
      "2021-10-25 20:10:15.424162: I tensorflow/core/platform/profile_utils/cpu_utils.cc:94] CPU Frequency: 2200000000 Hz\n",
      "2021-10-25 20:10:15.427207: I tensorflow/compiler/xla/service/service.cc:168] XLA service 0x556ca3e8b6b0 initialized for platform Host (this does not guarantee that XLA will be used). Devices:\n",
      "2021-10-25 20:10:15.427290: I tensorflow/compiler/xla/service/service.cc:176]   StreamExecutor device (0): Host, Default Version\n",
      "2021-10-25 20:10:15.430561: I tensorflow/stream_executor/platform/default/dso_loader.cc:44] Successfully opened dynamic library libcuda.so.1\n",
      "2021-10-25 20:10:15.605369: I tensorflow/compiler/xla/service/service.cc:168] XLA service 0x556ca44bae70 initialized for platform CUDA (this does not guarantee that XLA will be used). Devices:\n",
      "2021-10-25 20:10:15.605473: I tensorflow/compiler/xla/service/service.cc:176]   StreamExecutor device (0): Tesla V100-PCIE-32GB, Compute Capability 7.0\n",
      "2021-10-25 20:10:15.607602: I tensorflow/core/common_runtime/gpu/gpu_device.cc:1555] Found device 0 with properties: \n",
      "pciBusID: 0000:af:00.0 name: Tesla V100-PCIE-32GB computeCapability: 7.0\n",
      "coreClock: 1.38GHz coreCount: 80 deviceMemorySize: 31.72GiB deviceMemoryBandwidth: 836.37GiB/s\n",
      "2021-10-25 20:10:15.608052: I tensorflow/stream_executor/platform/default/dso_loader.cc:44] Successfully opened dynamic library libcudart.so.10.1\n",
      "2021-10-25 20:10:15.610518: I tensorflow/stream_executor/platform/default/dso_loader.cc:44] Successfully opened dynamic library libcublas.so.10\n",
      "2021-10-25 20:10:15.612726: I tensorflow/stream_executor/platform/default/dso_loader.cc:44] Successfully opened dynamic library libcufft.so.10\n",
      "2021-10-25 20:10:15.613162: I tensorflow/stream_executor/platform/default/dso_loader.cc:44] Successfully opened dynamic library libcurand.so.10\n",
      "2021-10-25 20:10:15.615749: I tensorflow/stream_executor/platform/default/dso_loader.cc:44] Successfully opened dynamic library libcusolver.so.10\n",
      "2021-10-25 20:10:15.617192: I tensorflow/stream_executor/platform/default/dso_loader.cc:44] Successfully opened dynamic library libcusparse.so.10\n",
      "2021-10-25 20:10:15.622697: I tensorflow/stream_executor/platform/default/dso_loader.cc:44] Successfully opened dynamic library libcudnn.so.7\n",
      "2021-10-25 20:10:15.626540: I tensorflow/core/common_runtime/gpu/gpu_device.cc:1697] Adding visible gpu devices: 0\n",
      "2021-10-25 20:10:15.626619: I tensorflow/stream_executor/platform/default/dso_loader.cc:44] Successfully opened dynamic library libcudart.so.10.1\n",
      "2021-10-25 20:10:15.629439: I tensorflow/core/common_runtime/gpu/gpu_device.cc:1096] Device interconnect StreamExecutor with strength 1 edge matrix:\n",
      "2021-10-25 20:10:15.629471: I tensorflow/core/common_runtime/gpu/gpu_device.cc:1102]      0 \n",
      "2021-10-25 20:10:15.629488: I tensorflow/core/common_runtime/gpu/gpu_device.cc:1115] 0:   N \n",
      "2021-10-25 20:10:15.633010: I tensorflow/core/common_runtime/gpu/gpu_device.cc:1241] Created TensorFlow device (/job:localhost/replica:0/task:0/device:GPU:0 with 7795 MB memory) -> physical GPU (device: 0, name: Tesla V100-PCIE-32GB, pci bus id: 0000:af:00.0, compute capability: 7.0)\n"
     ]
    }
   ],
   "source": [
    "import tensorflow as tf\n",
    "import os\n",
    "os.environ[\"CUDA_VISIBLE_DEVICES\"]=\"0\"\n",
    "\n",
    "config=tf.compat.v1.ConfigProto()\n",
    "config.gpu_options.per_process_gpu_memory_fraction = 0.24\n",
    "sess=tf.compat.v1.Session(config=config)"
   ]
  },
  {
   "cell_type": "code",
   "execution_count": 3,
   "metadata": {
    "Collapsed": "false"
   },
   "outputs": [],
   "source": [
    "config_path = 'RoBERTa-tiny3L312-clue/bert_config.json'\n",
    "checkpoint_path = 'RoBERTa-tiny3L312-clue/bert_model.ckpt'\n",
    "dict_path = 'RoBERTa-tiny3L312-clue/vocab.txt'"
   ]
  },
  {
   "cell_type": "code",
   "execution_count": 2,
   "metadata": {
    "Collapsed": "false"
   },
   "outputs": [],
   "source": [
    "train_data = pd.read_csv('data/sentiment_analysis_trainingset.csv').iloc[:, 1:].dropna()\n",
    "valid_data = pd.read_csv('data/sentiment_analysis_validationset.csv').iloc[:, 1:].dropna()"
   ]
  },
  {
   "cell_type": "code",
   "execution_count": 5,
   "metadata": {
    "scrolled": true
   },
   "outputs": [
    {
     "data": {
      "text/html": [
       "<div>\n",
       "<style scoped>\n",
       "    .dataframe tbody tr th:only-of-type {\n",
       "        vertical-align: middle;\n",
       "    }\n",
       "\n",
       "    .dataframe tbody tr th {\n",
       "        vertical-align: top;\n",
       "    }\n",
       "\n",
       "    .dataframe thead th {\n",
       "        text-align: right;\n",
       "    }\n",
       "</style>\n",
       "<table border=\"1\" class=\"dataframe\">\n",
       "  <thead>\n",
       "    <tr style=\"text-align: right;\">\n",
       "      <th></th>\n",
       "      <th>content</th>\n",
       "      <th>location_traffic_convenience</th>\n",
       "      <th>location_distance_from_business_district</th>\n",
       "      <th>location_easy_to_find</th>\n",
       "      <th>service_wait_time</th>\n",
       "      <th>service_waiters_attitude</th>\n",
       "      <th>service_parking_convenience</th>\n",
       "      <th>service_serving_speed</th>\n",
       "      <th>price_level</th>\n",
       "      <th>price_cost_effective</th>\n",
       "      <th>...</th>\n",
       "      <th>environment_decoration</th>\n",
       "      <th>environment_noise</th>\n",
       "      <th>environment_space</th>\n",
       "      <th>environment_cleaness</th>\n",
       "      <th>dish_portion</th>\n",
       "      <th>dish_taste</th>\n",
       "      <th>dish_look</th>\n",
       "      <th>dish_recommendation</th>\n",
       "      <th>others_overall_experience</th>\n",
       "      <th>others_willing_to_consume_again</th>\n",
       "    </tr>\n",
       "  </thead>\n",
       "  <tbody>\n",
       "    <tr>\n",
       "      <th>0</th>\n",
       "      <td>\"吼吼吼，萌死人的棒棒糖，中了大众点评的霸王餐，太可爱了。一直就好奇这个棒棒糖是怎么个东西，...</td>\n",
       "      <td>-2</td>\n",
       "      <td>-2</td>\n",
       "      <td>-2</td>\n",
       "      <td>-2</td>\n",
       "      <td>1</td>\n",
       "      <td>-2</td>\n",
       "      <td>-2</td>\n",
       "      <td>-2</td>\n",
       "      <td>-2</td>\n",
       "      <td>...</td>\n",
       "      <td>-2</td>\n",
       "      <td>-2</td>\n",
       "      <td>-2</td>\n",
       "      <td>-2</td>\n",
       "      <td>-2</td>\n",
       "      <td>-2</td>\n",
       "      <td>1</td>\n",
       "      <td>-2</td>\n",
       "      <td>1</td>\n",
       "      <td>-2</td>\n",
       "    </tr>\n",
       "    <tr>\n",
       "      <th>1</th>\n",
       "      <td>\"第三次参加大众点评网霸王餐的活动。这家店给人整体感觉一般。首先环境只能算中等，其次霸王餐提...</td>\n",
       "      <td>-2</td>\n",
       "      <td>-2</td>\n",
       "      <td>-2</td>\n",
       "      <td>-2</td>\n",
       "      <td>-2</td>\n",
       "      <td>-2</td>\n",
       "      <td>-2</td>\n",
       "      <td>0</td>\n",
       "      <td>-2</td>\n",
       "      <td>...</td>\n",
       "      <td>0</td>\n",
       "      <td>0</td>\n",
       "      <td>0</td>\n",
       "      <td>0</td>\n",
       "      <td>1</td>\n",
       "      <td>-2</td>\n",
       "      <td>-2</td>\n",
       "      <td>-2</td>\n",
       "      <td>1</td>\n",
       "      <td>-2</td>\n",
       "    </tr>\n",
       "    <tr>\n",
       "      <th>2</th>\n",
       "      <td>\"4人同行 点了10个小吃\\n榴莲酥 榴莲味道不足 松软 奶味浓\\n虾饺 好吃 两颗大虾仁\\...</td>\n",
       "      <td>-2</td>\n",
       "      <td>-2</td>\n",
       "      <td>-2</td>\n",
       "      <td>-2</td>\n",
       "      <td>0</td>\n",
       "      <td>-2</td>\n",
       "      <td>1</td>\n",
       "      <td>0</td>\n",
       "      <td>-2</td>\n",
       "      <td>...</td>\n",
       "      <td>-2</td>\n",
       "      <td>-2</td>\n",
       "      <td>1</td>\n",
       "      <td>-2</td>\n",
       "      <td>0</td>\n",
       "      <td>1</td>\n",
       "      <td>-2</td>\n",
       "      <td>-2</td>\n",
       "      <td>0</td>\n",
       "      <td>-2</td>\n",
       "    </tr>\n",
       "    <tr>\n",
       "      <th>3</th>\n",
       "      <td>\"之前评价了莫名其妙被删 果断继续差评！ 换了菜单 价格更低 开始砸牌子 但套餐还是有150...</td>\n",
       "      <td>-2</td>\n",
       "      <td>-2</td>\n",
       "      <td>-2</td>\n",
       "      <td>-2</td>\n",
       "      <td>-2</td>\n",
       "      <td>-2</td>\n",
       "      <td>-2</td>\n",
       "      <td>0</td>\n",
       "      <td>-2</td>\n",
       "      <td>...</td>\n",
       "      <td>-2</td>\n",
       "      <td>-2</td>\n",
       "      <td>-2</td>\n",
       "      <td>-2</td>\n",
       "      <td>-2</td>\n",
       "      <td>-1</td>\n",
       "      <td>-2</td>\n",
       "      <td>-2</td>\n",
       "      <td>-1</td>\n",
       "      <td>-1</td>\n",
       "    </tr>\n",
       "    <tr>\n",
       "      <th>4</th>\n",
       "      <td>\"出乎意料地惊艳，椰子鸡清热降火，美容养颜，大大满足了爱吃火锅怕上火星人。椰子冻是帅帅的老板...</td>\n",
       "      <td>-2</td>\n",
       "      <td>-2</td>\n",
       "      <td>-2</td>\n",
       "      <td>-2</td>\n",
       "      <td>-2</td>\n",
       "      <td>-2</td>\n",
       "      <td>-2</td>\n",
       "      <td>-2</td>\n",
       "      <td>-2</td>\n",
       "      <td>...</td>\n",
       "      <td>-2</td>\n",
       "      <td>-2</td>\n",
       "      <td>-2</td>\n",
       "      <td>-2</td>\n",
       "      <td>-2</td>\n",
       "      <td>1</td>\n",
       "      <td>1</td>\n",
       "      <td>-2</td>\n",
       "      <td>1</td>\n",
       "      <td>-2</td>\n",
       "    </tr>\n",
       "  </tbody>\n",
       "</table>\n",
       "<p>5 rows × 21 columns</p>\n",
       "</div>"
      ],
      "text/plain": [
       "                                             content  \\\n",
       "0  \"吼吼吼，萌死人的棒棒糖，中了大众点评的霸王餐，太可爱了。一直就好奇这个棒棒糖是怎么个东西，...   \n",
       "1  \"第三次参加大众点评网霸王餐的活动。这家店给人整体感觉一般。首先环境只能算中等，其次霸王餐提...   \n",
       "2  \"4人同行 点了10个小吃\\n榴莲酥 榴莲味道不足 松软 奶味浓\\n虾饺 好吃 两颗大虾仁\\...   \n",
       "3  \"之前评价了莫名其妙被删 果断继续差评！ 换了菜单 价格更低 开始砸牌子 但套餐还是有150...   \n",
       "4  \"出乎意料地惊艳，椰子鸡清热降火，美容养颜，大大满足了爱吃火锅怕上火星人。椰子冻是帅帅的老板...   \n",
       "\n",
       "   location_traffic_convenience  location_distance_from_business_district  \\\n",
       "0                            -2                                        -2   \n",
       "1                            -2                                        -2   \n",
       "2                            -2                                        -2   \n",
       "3                            -2                                        -2   \n",
       "4                            -2                                        -2   \n",
       "\n",
       "   location_easy_to_find  service_wait_time  service_waiters_attitude  \\\n",
       "0                     -2                 -2                         1   \n",
       "1                     -2                 -2                        -2   \n",
       "2                     -2                 -2                         0   \n",
       "3                     -2                 -2                        -2   \n",
       "4                     -2                 -2                        -2   \n",
       "\n",
       "   service_parking_convenience  service_serving_speed  price_level  \\\n",
       "0                           -2                     -2           -2   \n",
       "1                           -2                     -2            0   \n",
       "2                           -2                      1            0   \n",
       "3                           -2                     -2            0   \n",
       "4                           -2                     -2           -2   \n",
       "\n",
       "   price_cost_effective  ...  environment_decoration  environment_noise  \\\n",
       "0                    -2  ...                      -2                 -2   \n",
       "1                    -2  ...                       0                  0   \n",
       "2                    -2  ...                      -2                 -2   \n",
       "3                    -2  ...                      -2                 -2   \n",
       "4                    -2  ...                      -2                 -2   \n",
       "\n",
       "   environment_space  environment_cleaness  dish_portion  dish_taste  \\\n",
       "0                 -2                    -2            -2          -2   \n",
       "1                  0                     0             1          -2   \n",
       "2                  1                    -2             0           1   \n",
       "3                 -2                    -2            -2          -1   \n",
       "4                 -2                    -2            -2           1   \n",
       "\n",
       "   dish_look  dish_recommendation  others_overall_experience  \\\n",
       "0          1                   -2                          1   \n",
       "1         -2                   -2                          1   \n",
       "2         -2                   -2                          0   \n",
       "3         -2                   -2                         -1   \n",
       "4          1                   -2                          1   \n",
       "\n",
       "   others_willing_to_consume_again  \n",
       "0                               -2  \n",
       "1                               -2  \n",
       "2                               -2  \n",
       "3                               -1  \n",
       "4                               -2  \n",
       "\n",
       "[5 rows x 21 columns]"
      ]
     },
     "execution_count": 5,
     "metadata": {},
     "output_type": "execute_result"
    }
   ],
   "source": [
    "train_data.head()"
   ]
  },
  {
   "cell_type": "code",
   "execution_count": 5,
   "metadata": {
    "Collapsed": "false"
   },
   "outputs": [],
   "source": [
    "train_data.iloc[:, 1:] = train_data.iloc[:, 1:].apply(lambda x: x + 2)\n",
    "valid_data.iloc[:, 1:] = valid_data.iloc[:, 1:].apply(lambda x: x + 2)"
   ]
  },
  {
   "cell_type": "code",
   "execution_count": 6,
   "metadata": {
    "Collapsed": "false"
   },
   "outputs": [
    {
     "data": {
      "text/plain": [
       "Index(['content', 'location_traffic_convenience',\n",
       "       'location_distance_from_business_district', 'location_easy_to_find',\n",
       "       'service_wait_time', 'service_waiters_attitude',\n",
       "       'service_parking_convenience', 'service_serving_speed', 'price_level',\n",
       "       'price_cost_effective', 'price_discount', 'environment_decoration',\n",
       "       'environment_noise', 'environment_space', 'environment_cleaness',\n",
       "       'dish_portion', 'dish_taste', 'dish_look', 'dish_recommendation',\n",
       "       'others_overall_experience', 'others_willing_to_consume_again'],\n",
       "      dtype='object')"
      ]
     },
     "execution_count": 6,
     "metadata": {},
     "output_type": "execute_result"
    }
   ],
   "source": [
    "train_data.columns"
   ]
  },
  {
   "cell_type": "code",
   "execution_count": 7,
   "metadata": {
    "Collapsed": "false"
   },
   "outputs": [],
   "source": [
    "# for column in train_data.columns:\n",
    "#     print(valid_data[column].value_counts())"
   ]
  },
  {
   "cell_type": "code",
   "execution_count": 8,
   "metadata": {
    "Collapsed": "false"
   },
   "outputs": [
    {
     "data": {
      "text/plain": [
       "105000"
      ]
     },
     "execution_count": 8,
     "metadata": {},
     "output_type": "execute_result"
    }
   ],
   "source": [
    "len(train_data)"
   ]
  },
  {
   "cell_type": "code",
   "execution_count": 9,
   "metadata": {
    "Collapsed": "false"
   },
   "outputs": [
    {
     "data": {
      "text/plain": [
       "15000"
      ]
     },
     "execution_count": 9,
     "metadata": {},
     "output_type": "execute_result"
    }
   ],
   "source": [
    "len(valid_data)"
   ]
  },
  {
   "cell_type": "code",
   "execution_count": 10,
   "metadata": {
    "Collapsed": "false"
   },
   "outputs": [
    {
     "data": {
      "text/plain": [
       "Index(['location_traffic_convenience',\n",
       "       'location_distance_from_business_district', 'location_easy_to_find',\n",
       "       'service_wait_time', 'service_waiters_attitude',\n",
       "       'service_parking_convenience', 'service_serving_speed', 'price_level',\n",
       "       'price_cost_effective', 'price_discount', 'environment_decoration',\n",
       "       'environment_noise', 'environment_space', 'environment_cleaness',\n",
       "       'dish_portion', 'dish_taste', 'dish_look', 'dish_recommendation',\n",
       "       'others_overall_experience', 'others_willing_to_consume_again'],\n",
       "      dtype='object')"
      ]
     },
     "execution_count": 10,
     "metadata": {},
     "output_type": "execute_result"
    }
   ],
   "source": [
    "tags = train_data.columns[1:]\n",
    "tags"
   ]
  },
  {
   "cell_type": "code",
   "execution_count": 11,
   "metadata": {
    "Collapsed": "false"
   },
   "outputs": [
    {
     "data": {
      "text/plain": [
       "20"
      ]
     },
     "execution_count": 11,
     "metadata": {},
     "output_type": "execute_result"
    }
   ],
   "source": [
    "num_classes_topic = len(tags)\n",
    "num_classes_topic"
   ]
  },
  {
   "cell_type": "code",
   "execution_count": 12,
   "metadata": {
    "Collapsed": "false"
   },
   "outputs": [],
   "source": [
    "set_gelu('tanh')  # 切换gelu版本\n",
    "\n",
    "maxlen = 256\n",
    "batch_size = 128\n",
    "epochs = 25\n",
    "dropout_rate = 0.1\n",
    "num_classes_sentiment = 4"
   ]
  },
  {
   "cell_type": "markdown",
   "metadata": {},
   "source": [
    "bert"
   ]
  },
  {
   "cell_type": "code",
   "execution_count": 13,
   "metadata": {
    "Collapsed": "false"
   },
   "outputs": [],
   "source": [
    "# 建立分词器\n",
    "tokenizer = Tokenizer(dict_path, do_lower_case=True)"
   ]
  },
  {
   "cell_type": "code",
   "execution_count": 14,
   "metadata": {
    "Collapsed": "false"
   },
   "outputs": [],
   "source": [
    "def get_data(data):\n",
    "    token_ids = []\n",
    "    segment_ids = []\n",
    "    label = []\n",
    "    # 循环每个句子\n",
    "    for text in tqdm(data['content'].astype(str)):\n",
    "        # 分词并把token变成编号\n",
    "        token_id, segment_id = tokenizer.encode(text, maxlen=maxlen)\n",
    "        token_ids.append(token_id)\n",
    "        segment_ids.append(segment_id)\n",
    "    token_ids = sequence_padding(token_ids)\n",
    "    segment_ids = sequence_padding(segment_ids)\n",
    "    \n",
    "    # 获取20个维度的标签\n",
    "    for columns in tags:\n",
    "        label.append(np.array(data[columns]).astype('uint8'))\n",
    "    label = np.array(label) \n",
    "    return [token_ids, segment_ids], label"
   ]
  },
  {
   "cell_type": "code",
   "execution_count": 15,
   "metadata": {
    "Collapsed": "false"
   },
   "outputs": [
    {
     "name": "stderr",
     "output_type": "stream",
     "text": [
      "100%|██████████| 105000/105000 [04:22<00:00, 400.00it/s]\n",
      "100%|██████████| 15000/15000 [00:37<00:00, 404.61it/s]\n"
     ]
    }
   ],
   "source": [
    "train_input, train_label = get_data(train_data)\n",
    "valid_input, valid_label = get_data(valid_data)"
   ]
  },
  {
   "cell_type": "code",
   "execution_count": 16,
   "metadata": {
    "Collapsed": "false"
   },
   "outputs": [
    {
     "data": {
      "text/plain": [
       "(20, 105000)"
      ]
     },
     "execution_count": 16,
     "metadata": {},
     "output_type": "execute_result"
    }
   ],
   "source": [
    "train_label.shape"
   ]
  },
  {
   "cell_type": "code",
   "execution_count": 17,
   "metadata": {
    "Collapsed": "false"
   },
   "outputs": [
    {
     "data": {
      "text/plain": [
       "2"
      ]
     },
     "execution_count": 17,
     "metadata": {},
     "output_type": "execute_result"
    }
   ],
   "source": [
    "len(train_input)"
   ]
  },
  {
   "cell_type": "code",
   "execution_count": 18,
   "metadata": {
    "Collapsed": "false"
   },
   "outputs": [
    {
     "name": "stderr",
     "output_type": "stream",
     "text": [
      "2021-10-25 20:15:46.168830: I tensorflow/core/common_runtime/gpu/gpu_device.cc:1555] Found device 0 with properties: \n",
      "pciBusID: 0000:af:00.0 name: Tesla V100-PCIE-32GB computeCapability: 7.0\n",
      "coreClock: 1.38GHz coreCount: 80 deviceMemorySize: 31.72GiB deviceMemoryBandwidth: 836.37GiB/s\n",
      "2021-10-25 20:15:46.169317: I tensorflow/stream_executor/platform/default/dso_loader.cc:44] Successfully opened dynamic library libcudart.so.10.1\n",
      "2021-10-25 20:15:46.169362: I tensorflow/stream_executor/platform/default/dso_loader.cc:44] Successfully opened dynamic library libcublas.so.10\n",
      "2021-10-25 20:15:46.169395: I tensorflow/stream_executor/platform/default/dso_loader.cc:44] Successfully opened dynamic library libcufft.so.10\n",
      "2021-10-25 20:15:46.169423: I tensorflow/stream_executor/platform/default/dso_loader.cc:44] Successfully opened dynamic library libcurand.so.10\n",
      "2021-10-25 20:15:46.169452: I tensorflow/stream_executor/platform/default/dso_loader.cc:44] Successfully opened dynamic library libcusolver.so.10\n",
      "2021-10-25 20:15:46.169482: I tensorflow/stream_executor/platform/default/dso_loader.cc:44] Successfully opened dynamic library libcusparse.so.10\n",
      "2021-10-25 20:15:46.169512: I tensorflow/stream_executor/platform/default/dso_loader.cc:44] Successfully opened dynamic library libcudnn.so.7\n",
      "2021-10-25 20:15:46.172948: I tensorflow/core/common_runtime/gpu/gpu_device.cc:1697] Adding visible gpu devices: 0\n",
      "2021-10-25 20:15:46.175781: I tensorflow/core/common_runtime/gpu/gpu_device.cc:1555] Found device 0 with properties: \n",
      "pciBusID: 0000:af:00.0 name: Tesla V100-PCIE-32GB computeCapability: 7.0\n",
      "coreClock: 1.38GHz coreCount: 80 deviceMemorySize: 31.72GiB deviceMemoryBandwidth: 836.37GiB/s\n",
      "2021-10-25 20:15:46.175858: I tensorflow/stream_executor/platform/default/dso_loader.cc:44] Successfully opened dynamic library libcudart.so.10.1\n",
      "2021-10-25 20:15:46.175886: I tensorflow/stream_executor/platform/default/dso_loader.cc:44] Successfully opened dynamic library libcublas.so.10\n",
      "2021-10-25 20:15:46.175910: I tensorflow/stream_executor/platform/default/dso_loader.cc:44] Successfully opened dynamic library libcufft.so.10\n",
      "2021-10-25 20:15:46.175934: I tensorflow/stream_executor/platform/default/dso_loader.cc:44] Successfully opened dynamic library libcurand.so.10\n",
      "2021-10-25 20:15:46.175958: I tensorflow/stream_executor/platform/default/dso_loader.cc:44] Successfully opened dynamic library libcusolver.so.10\n",
      "2021-10-25 20:15:46.175981: I tensorflow/stream_executor/platform/default/dso_loader.cc:44] Successfully opened dynamic library libcusparse.so.10\n",
      "2021-10-25 20:15:46.176005: I tensorflow/stream_executor/platform/default/dso_loader.cc:44] Successfully opened dynamic library libcudnn.so.7\n",
      "2021-10-25 20:15:46.179299: I tensorflow/core/common_runtime/gpu/gpu_device.cc:1697] Adding visible gpu devices: 0\n",
      "2021-10-25 20:15:46.179386: I tensorflow/core/common_runtime/gpu/gpu_device.cc:1096] Device interconnect StreamExecutor with strength 1 edge matrix:\n",
      "2021-10-25 20:15:46.179403: I tensorflow/core/common_runtime/gpu/gpu_device.cc:1102]      0 \n",
      "2021-10-25 20:15:46.179418: I tensorflow/core/common_runtime/gpu/gpu_device.cc:1115] 0:   N \n",
      "2021-10-25 20:15:46.184651: I tensorflow/core/common_runtime/gpu/gpu_device.cc:1241] Created TensorFlow device (/job:localhost/replica:0/task:0/device:GPU:0 with 7795 MB memory) -> physical GPU (device: 0, name: Tesla V100-PCIE-32GB, pci bus id: 0000:af:00.0, compute capability: 7.0)\n"
     ]
    }
   ],
   "source": [
    "# 加载预训练模型\n",
    "bert = build_transformer_model(\n",
    "    config_path=config_path,\n",
    "    checkpoint_path=checkpoint_path,\n",
    "    model='bert',\n",
    "    return_keras_model=False,\n",
    ")\n",
    "\n",
    "pooler = Lambda(lambda x: x[:, 0], name='CLS-token')(bert.model.output)\n",
    "\n",
    "# 多任务学习\n",
    "mutil_layers = []\n",
    "for i in range(num_classes_topic):\n",
    "    dropout = Dropout(dropout_rate)(pooler)\n",
    "    preds = Dense(num_classes_sentiment, activation='softmax', kernel_initializer=bert.initializer, name='preds_{}'.format(i))(dropout)\n",
    "    mutil_layers.append(preds)\n",
    "    \n",
    "model = keras.models.Model(bert.model.input, mutil_layers)\n",
    "# model.summary()"
   ]
  },
  {
   "cell_type": "code",
   "execution_count": 19,
   "metadata": {
    "Collapsed": "false"
   },
   "outputs": [],
   "source": [
    "loss_dict = {}\n",
    "loss_weights_dict = {}\n",
    "for i in range(num_classes_topic):\n",
    "    loss_dict['preds_{}'.format(i)] = 'sparse_categorical_crossentropy'\n",
    "    loss_weights_dict['preds_{}'.format(i)] = 1."
   ]
  },
  {
   "cell_type": "code",
   "execution_count": 20,
   "metadata": {
    "Collapsed": "false"
   },
   "outputs": [],
   "source": [
    "# 派生为带分段线性学习率的优化器。\n",
    "# 其中name参数可选，但最好填入，以区分不同的派生优化器。\n",
    "# loss_weights表示每个任务的权重，可以看情况设置\n",
    "\n",
    "AdamLR = extend_with_piecewise_linear_lr(Adam, name='AdamLR')\n",
    "\n",
    "model.compile(loss=loss_dict,\n",
    "              loss_weights=loss_weights_dict,\n",
    "              optimizer=AdamLR(learning_rate=1e-4, lr_schedule={\n",
    "                    int((len(train_input[0]) // batch_size * epochs) * 0.2): 1,\n",
    "                    int((len(train_input[0]) // batch_size * epochs) * 0.3): 0.1\n",
    "              }),\n",
    "              metrics=['accuracy'],\n",
    "             )"
   ]
  },
  {
   "cell_type": "code",
   "execution_count": 21,
   "metadata": {
    "Collapsed": "false"
   },
   "outputs": [],
   "source": [
    "def adversarial_training(model, embedding_name, epsilon=1):\n",
    "    \"\"\"给模型添加对抗训练\n",
    "    其中model是需要添加对抗训练的keras模型，embedding_name\n",
    "    则是model里边Embedding层的名字。要在模型compile之后使用。\n",
    "    \"\"\"\n",
    "    if model.train_function is None:  # 如果还没有训练函数\n",
    "        model._make_train_function()  # 手动make\n",
    "    old_train_function = model.train_function  # 备份旧的训练函数\n",
    "\n",
    "    # 查找Embedding层\n",
    "    for output in model.outputs:\n",
    "        embedding_layer = search_layer(output, embedding_name)\n",
    "        if embedding_layer is not None:\n",
    "            break\n",
    "    if embedding_layer is None:\n",
    "        raise Exception('Embedding layer not found')\n",
    "\n",
    "    # 求Embedding梯度\n",
    "    embeddings = embedding_layer.embeddings  # Embedding矩阵\n",
    "    gradients = K.gradients(model.total_loss, [embeddings])  # Embedding梯度\n",
    "    gradients = K.zeros_like(embeddings) + gradients[0]  # 转为dense tensor\n",
    "\n",
    "    # 封装为函数\n",
    "    inputs = (\n",
    "        model._feed_inputs + model._feed_targets + model._feed_sample_weights\n",
    "    )  # 所有输入层\n",
    "    embedding_gradients = K.function(\n",
    "        inputs=inputs,\n",
    "        outputs=[gradients],\n",
    "        name='embedding_gradients',\n",
    "    )  # 封装为函数\n",
    "\n",
    "    def train_function(inputs):  # 重新定义训练函数\n",
    "        grads = embedding_gradients(inputs)[0]  # Embedding梯度\n",
    "        delta = epsilon * grads / (np.sqrt((grads**2).sum()) + 1e-8)  # 计算扰动\n",
    "        K.set_value(embeddings, K.eval(embeddings) + delta)  # 注入扰动\n",
    "        outputs = old_train_function(inputs)  # 梯度下降\n",
    "        K.set_value(embeddings, K.eval(embeddings) - delta)  # 删除扰动\n",
    "        return outputs\n",
    "\n",
    "    model.train_function = train_function  # 覆盖原训练函数"
   ]
  },
  {
   "cell_type": "code",
   "execution_count": 22,
   "metadata": {
    "Collapsed": "false"
   },
   "outputs": [
    {
     "name": "stderr",
     "output_type": "stream",
     "text": [
      "/home/powerop/.pyenv/versions/python37/lib/python3.7/site-packages/tensorflow_core/python/framework/indexed_slices.py:433: UserWarning: Converting sparse IndexedSlices to a dense Tensor of unknown shape. This may consume a large amount of memory.\n",
      "  \"Converting sparse IndexedSlices to a dense Tensor of unknown shape. \"\n"
     ]
    }
   ],
   "source": [
    "# 写好函数后，启用对抗训练只需要一行代码\n",
    "adversarial_training(model, 'Embedding-Token', 0.5)"
   ]
  },
  {
   "cell_type": "code",
   "execution_count": 26,
   "metadata": {
    "Collapsed": "false"
   },
   "outputs": [],
   "source": [
    "def evaluate(x_trues, y_trues):\n",
    "    golds_topic, preds_topic = [], []\n",
    "    golds_sentiment, preds_sentiment = [], []\n",
    "\n",
    "    y_preds = np.argmax(model.predict(x_trues, batch_size = 128, verbose=1), axis=-1)\n",
    "    for y_pred, y_true in zip(y_preds.T, y_trues.T):\n",
    "        golds_topic.append([1 if y > 0 else 0 for y in y_true])\n",
    "        preds_topic.append([1 if y > 0 else 0 for y in y_pred])\n",
    "        golds_sentiment.extend(y_true)\n",
    "        preds_sentiment.extend(y_pred)\n",
    "    print(classification_report(y_true=golds_topic, y_pred=preds_topic, target_names=tags, digits=4))\n",
    "    print(classification_report(y_true=golds_sentiment, y_pred=preds_sentiment, target_names=['未提及', '负', '中', '正'], digits=4))\n",
    "    f1_score_topic = f1_score(y_true=golds_topic, y_pred=preds_topic, average='micro')\n",
    "    f1_score_sentiment = f1_score(y_true=golds_sentiment, y_pred=preds_sentiment, average='micro')\n",
    "    f1_score_average = float(format((f1_score_topic + f1_score_sentiment) / 2, '.4f'))\n",
    "    print(\"f1_score_average\", f1_score_average, type(f1_score_average))\n",
    "    return f1_score_average"
   ]
  },
  {
   "cell_type": "code",
   "execution_count": 27,
   "metadata": {
    "Collapsed": "false"
   },
   "outputs": [],
   "source": [
    "class Evaluator(keras.callbacks.Callback):\n",
    "    \"\"\"评估与保存\n",
    "    \"\"\"\n",
    "    def __init__(self):\n",
    "        self.best_val_f1 = 0.\n",
    "\n",
    "    def on_epoch_end(self, epoch, logs=None):\n",
    "        val_f1 = evaluate(valid_input, valid_label)\n",
    "        if val_f1 > self.best_val_f1:\n",
    "            self.best_val_f1 = val_f1\n",
    "            model.save_weights('model/best_model_tag_sentiment.weights')\n",
    "            model_json = model.to_json()\n",
    "            with open('model/best_model_tag_sentiment.json', 'w') as json_file:\n",
    "                json_file.write(model_json)\n",
    "        print(\n",
    "            u'val_f1: %.5f, best_val_f1: %.5f\\n' %\n",
    "            (val_f1, self.best_val_f1)\n",
    "        )"
   ]
  },
  {
   "cell_type": "code",
   "execution_count": 28,
   "metadata": {
    "Collapsed": "false",
    "scrolled": true
   },
   "outputs": [
    {
     "name": "stdout",
     "output_type": "stream",
     "text": [
      "Epoch 1/25\n",
      "105000/105000 [==============================] - 334s 3ms/step - loss: 14.2305 - preds_0_loss: 0.3364 - preds_1_loss: 0.4694 - preds_2_loss: 0.5683 - preds_3_loss: 0.4835 - preds_4_loss: 0.9163 - preds_5_loss: 0.2283 - preds_6_loss: 0.5580 - preds_7_loss: 1.1527 - preds_8_loss: 0.6903 - preds_9_loss: 0.8613 - preds_10_loss: 0.7341 - preds_11_loss: 0.6498 - preds_12_loss: 0.8610 - preds_13_loss: 0.7315 - preds_14_loss: 1.0997 - preds_15_loss: 0.8925 - preds_16_loss: 0.7851 - preds_17_loss: 0.5948 - preds_18_loss: 0.7716 - preds_19_loss: 0.8451 - preds_0_accuracy: 0.9086 - preds_1_accuracy: 0.8221 - preds_2_accuracy: 0.8134 - preds_3_accuracy: 0.8835 - preds_4_accuracy: 0.6501 - preds_5_accuracy: 0.9424 - preds_6_accuracy: 0.8469 - preds_7_accuracy: 0.5257 - preds_8_accuracy: 0.7673 - preds_9_accuracy: 0.6668 - preds_10_accuracy: 0.7458 - preds_11_accuracy: 0.7696 - preds_12_accuracy: 0.6867 - preds_13_accuracy: 0.7332 - preds_14_accuracy: 0.5500 - preds_15_accuracy: 0.5914 - preds_16_accuracy: 0.7216 - preds_17_accuracy: 0.8098 - preds_18_accuracy: 0.6936 - preds_19_accuracy: 0.6231\n",
      "15000/15000 [==============================] - 8s 556us/step\n"
     ]
    },
    {
     "name": "stderr",
     "output_type": "stream",
     "text": [
      "/home/powerop/.pyenv/versions/python37/lib/python3.7/site-packages/sklearn/metrics/_classification.py:1248: UndefinedMetricWarning: Precision and F-score are ill-defined and being set to 0.0 in labels with no predicted samples. Use `zero_division` parameter to control this behavior.\n",
      "  _warn_prf(average, modifier, msg_start, len(result))\n",
      "/home/powerop/.pyenv/versions/python37/lib/python3.7/site-packages/sklearn/metrics/_classification.py:1248: UndefinedMetricWarning: Recall and F-score are ill-defined and being set to 0.0 in samples with no true labels. Use `zero_division` parameter to control this behavior.\n",
      "  _warn_prf(average, modifier, msg_start, len(result))\n"
     ]
    },
    {
     "name": "stdout",
     "output_type": "stream",
     "text": [
      "                                          precision    recall  f1-score   support\n",
      "\n",
      "            location_traffic_convenience     0.8863    0.8338    0.8592      3243\n",
      "location_distance_from_business_district     0.7832    0.4407    0.5640      2968\n",
      "                   location_easy_to_find     0.8982    0.6912    0.7812      3484\n",
      "                       service_wait_time     0.0000    0.0000    0.0000      1763\n",
      "                service_waiters_attitude     0.9034    0.7930    0.8446      9008\n",
      "             service_parking_convenience     0.9400    0.7222    0.8168       954\n",
      "                   service_serving_speed     0.8324    0.3186    0.4608      2323\n",
      "                             price_level     0.8595    0.5958    0.7037      7503\n",
      "                    price_cost_effective     0.7911    0.2343    0.3616      3572\n",
      "                          price_discount     0.8926    0.6675    0.7638      5738\n",
      "                  environment_decoration     0.8431    0.8600    0.8515      7199\n",
      "                       environment_noise     0.7661    0.6158    0.6828      4479\n",
      "                       environment_space     0.7514    0.5702    0.6484      5509\n",
      "                    environment_cleaness     0.7801    0.7228    0.7504      5404\n",
      "                            dish_portion     0.8766    0.3753    0.5256      6888\n",
      "                              dish_taste     0.9508    0.9978    0.9737     14244\n",
      "                               dish_look     0.5828    0.0224    0.0431      4242\n",
      "                     dish_recommendation     0.7992    0.2852    0.4204      2917\n",
      "               others_overall_experience     0.9810    1.0000    0.9904     14715\n",
      "         others_willing_to_consume_again     0.5260    0.2761    0.3621      5646\n",
      "\n",
      "                               micro avg     0.8754    0.6630    0.7545    111799\n",
      "                               macro avg     0.7822    0.5511    0.6202    111799\n",
      "                            weighted avg     0.8349    0.6630    0.7149    111799\n",
      "                             samples avg     0.8871    0.6776    0.7483    111799\n",
      "\n",
      "              precision    recall  f1-score   support\n",
      "\n",
      "         未提及     0.8250    0.9439    0.8805    188201\n",
      "           负     0.6903    0.0929    0.1637     12789\n",
      "           中     0.5435    0.2438    0.3366     25929\n",
      "           正     0.6748    0.6586    0.6666     73081\n",
      "\n",
      "    accuracy                         0.7776    300000\n",
      "   macro avg     0.6834    0.4848    0.5119    300000\n",
      "weighted avg     0.7584    0.7776    0.7508    300000\n",
      "\n",
      "f1_score_average 0.7661 <class 'float'>\n",
      "val_f1: 0.76610, best_val_f1: 0.76610\n",
      "\n",
      "Epoch 2/25\n",
      "105000/105000 [==============================] - 334s 3ms/step - loss: 12.1656 - preds_0_loss: 0.2945 - preds_1_loss: 0.3994 - preds_2_loss: 0.4154 - preds_3_loss: 0.4187 - preds_4_loss: 0.7834 - preds_5_loss: 0.1598 - preds_6_loss: 0.4339 - preds_7_loss: 0.9627 - preds_8_loss: 0.5813 - preds_9_loss: 0.6514 - preds_10_loss: 0.6252 - preds_11_loss: 0.5821 - preds_12_loss: 0.7476 - preds_13_loss: 0.6135 - preds_14_loss: 0.9582 - preds_15_loss: 0.7979 - preds_16_loss: 0.7565 - preds_17_loss: 0.5060 - preds_18_loss: 0.6793 - preds_19_loss: 0.7994 - preds_0_accuracy: 0.9219 - preds_1_accuracy: 0.8561 - preds_2_accuracy: 0.8780 - preds_3_accuracy: 0.8843 - preds_4_accuracy: 0.7052 - preds_5_accuracy: 0.9577 - preds_6_accuracy: 0.8772 - preds_7_accuracy: 0.6237 - preds_8_accuracy: 0.8062 - preds_9_accuracy: 0.7698 - preds_10_accuracy: 0.7870 - preds_11_accuracy: 0.8035 - preds_12_accuracy: 0.7289 - preds_13_accuracy: 0.7954 - preds_14_accuracy: 0.6353 - preds_15_accuracy: 0.6479 - preds_16_accuracy: 0.7229 - preds_17_accuracy: 0.8392 - preds_18_accuracy: 0.7321 - preds_19_accuracy: 0.6328\n",
      "15000/15000 [==============================] - 9s 571us/step\n"
     ]
    },
    {
     "name": "stderr",
     "output_type": "stream",
     "text": [
      "/home/powerop/.pyenv/versions/python37/lib/python3.7/site-packages/sklearn/metrics/_classification.py:1248: UndefinedMetricWarning: Recall and F-score are ill-defined and being set to 0.0 in samples with no true labels. Use `zero_division` parameter to control this behavior.\n",
      "  _warn_prf(average, modifier, msg_start, len(result))\n"
     ]
    },
    {
     "name": "stdout",
     "output_type": "stream",
     "text": [
      "                                          precision    recall  f1-score   support\n",
      "\n",
      "            location_traffic_convenience     0.8993    0.8369    0.8670      3243\n",
      "location_distance_from_business_district     0.7556    0.5822    0.6577      2968\n",
      "                   location_easy_to_find     0.8816    0.7609    0.8168      3484\n",
      "                       service_wait_time     0.7699    0.2411    0.3672      1763\n",
      "                service_waiters_attitude     0.9120    0.8089    0.8574      9008\n",
      "             service_parking_convenience     0.9322    0.7212    0.8132       954\n",
      "                   service_serving_speed     0.8981    0.5045    0.6461      2323\n",
      "                             price_level     0.8853    0.7025    0.7834      7503\n",
      "                    price_cost_effective     0.8335    0.4569    0.5902      3572\n",
      "                          price_discount     0.8928    0.7285    0.8023      5738\n",
      "                  environment_decoration     0.8738    0.8423    0.8578      7199\n",
      "                       environment_noise     0.7991    0.6028    0.6872      4479\n",
      "                       environment_space     0.7867    0.7343    0.7596      5509\n",
      "                    environment_cleaness     0.8665    0.6893    0.7678      5404\n",
      "                            dish_portion     0.8762    0.5343    0.6638      6888\n",
      "                              dish_taste     0.9520    0.9968    0.9739     14244\n",
      "                               dish_look     0.7143    0.0177    0.0345      4242\n",
      "                     dish_recommendation     0.8152    0.3857    0.5236      2917\n",
      "               others_overall_experience     0.9810    1.0000    0.9904     14715\n",
      "         others_willing_to_consume_again     0.6675    0.2279    0.3398      5646\n",
      "\n",
      "                               micro avg     0.8939    0.7099    0.7913    111799\n",
      "                               macro avg     0.8496    0.6187    0.6900    111799\n",
      "                            weighted avg     0.8731    0.7099    0.7607    111799\n",
      "                             samples avg     0.8999    0.7267    0.7870    111799\n",
      "\n",
      "              precision    recall  f1-score   support\n",
      "\n",
      "         未提及     0.8464    0.9500    0.8952    188201\n",
      "           负     0.6330    0.3169    0.4224     12789\n",
      "           中     0.5900    0.3884    0.4684     25929\n",
      "           正     0.7499    0.6701    0.7077     73081\n",
      "\n",
      "    accuracy                         0.8063    300000\n",
      "   macro avg     0.7048    0.5813    0.6234    300000\n",
      "weighted avg     0.7916    0.8063    0.7925    300000\n",
      "\n",
      "f1_score_average 0.7988 <class 'float'>\n",
      "val_f1: 0.79880, best_val_f1: 0.79880\n",
      "\n",
      "Epoch 3/25\n",
      "105000/105000 [==============================] - 335s 3ms/step - loss: 11.1364 - preds_0_loss: 0.2700 - preds_1_loss: 0.3697 - preds_2_loss: 0.3648 - preds_3_loss: 0.3562 - preds_4_loss: 0.7131 - preds_5_loss: 0.1478 - preds_6_loss: 0.3801 - preds_7_loss: 0.8663 - preds_8_loss: 0.5313 - preds_9_loss: 0.6080 - preds_10_loss: 0.5820 - preds_11_loss: 0.5415 - preds_12_loss: 0.6427 - preds_13_loss: 0.5734 - preds_14_loss: 0.8639 - preds_15_loss: 0.7458 - preds_16_loss: 0.7356 - preds_17_loss: 0.4727 - preds_18_loss: 0.6405 - preds_19_loss: 0.7312 - preds_0_accuracy: 0.9255 - preds_1_accuracy: 0.8673 - preds_2_accuracy: 0.8925 - preds_3_accuracy: 0.8882 - preds_4_accuracy: 0.7278 - preds_5_accuracy: 0.9601 - preds_6_accuracy: 0.8961 - preds_7_accuracy: 0.6765 - preds_8_accuracy: 0.8223 - preds_9_accuracy: 0.7867 - preds_10_accuracy: 0.7999 - preds_11_accuracy: 0.8158 - preds_12_accuracy: 0.7695 - preds_13_accuracy: 0.8084 - preds_14_accuracy: 0.6775 - preds_15_accuracy: 0.6740 - preds_16_accuracy: 0.7255 - preds_17_accuracy: 0.8507 - preds_18_accuracy: 0.7483 - preds_19_accuracy: 0.6784\n",
      "15000/15000 [==============================] - 8s 560us/step\n"
     ]
    },
    {
     "name": "stderr",
     "output_type": "stream",
     "text": [
      "/home/powerop/.pyenv/versions/python37/lib/python3.7/site-packages/sklearn/metrics/_classification.py:1248: UndefinedMetricWarning: Recall and F-score are ill-defined and being set to 0.0 in samples with no true labels. Use `zero_division` parameter to control this behavior.\n",
      "  _warn_prf(average, modifier, msg_start, len(result))\n"
     ]
    },
    {
     "name": "stdout",
     "output_type": "stream",
     "text": [
      "                                          precision    recall  f1-score   support\n",
      "\n",
      "            location_traffic_convenience     0.9228    0.8076    0.8614      3243\n",
      "location_distance_from_business_district     0.7919    0.5526    0.6509      2968\n",
      "                   location_easy_to_find     0.8994    0.7566    0.8218      3484\n",
      "                       service_wait_time     0.7852    0.3670    0.5002      1763\n",
      "                service_waiters_attitude     0.9269    0.7901    0.8531      9008\n",
      "             service_parking_convenience     0.9355    0.7453    0.8296       954\n",
      "                   service_serving_speed     0.8745    0.5760    0.6945      2323\n",
      "                             price_level     0.8914    0.7024    0.7857      7503\n",
      "                    price_cost_effective     0.8252    0.4997    0.6225      3572\n",
      "                          price_discount     0.8920    0.7553    0.8180      5738\n",
      "                  environment_decoration     0.8972    0.8357    0.8654      7199\n",
      "                       environment_noise     0.8304    0.6408    0.7234      4479\n",
      "                       environment_space     0.8295    0.7243    0.7733      5509\n",
      "                    environment_cleaness     0.8665    0.7121    0.7817      5404\n",
      "                            dish_portion     0.8885    0.5806    0.7023      6888\n",
      "                              dish_taste     0.9536    0.9963    0.9745     14244\n",
      "                               dish_look     0.7196    0.0726    0.1319      4242\n",
      "                     dish_recommendation     0.8029    0.4525    0.5788      2917\n",
      "               others_overall_experience     0.9810    1.0000    0.9904     14715\n",
      "         others_willing_to_consume_again     0.7172    0.4690    0.5671      5646\n",
      "\n",
      "                               micro avg     0.8999    0.7335    0.8082    111799\n",
      "                               macro avg     0.8616    0.6518    0.7263    111799\n",
      "                            weighted avg     0.8846    0.7335    0.7877    111799\n",
      "                             samples avg     0.9045    0.7522    0.8048    111799\n",
      "\n",
      "              precision    recall  f1-score   support\n",
      "\n",
      "         未提及     0.8573    0.9515    0.9020    188201\n",
      "           负     0.6677    0.4208    0.5162     12789\n",
      "           中     0.6286    0.3696    0.4655     25929\n",
      "           正     0.7628    0.7078    0.7343     73081\n",
      "\n",
      "    accuracy                         0.8192    300000\n",
      "   macro avg     0.7291    0.6124    0.6545    300000\n",
      "weighted avg     0.8065    0.8192    0.8070    300000\n",
      "\n",
      "f1_score_average 0.8137 <class 'float'>\n",
      "val_f1: 0.81370, best_val_f1: 0.81370\n",
      "\n",
      "Epoch 4/25\n",
      "105000/105000 [==============================] - 335s 3ms/step - loss: 10.5409 - preds_0_loss: 0.2515 - preds_1_loss: 0.3496 - preds_2_loss: 0.3426 - preds_3_loss: 0.3353 - preds_4_loss: 0.6804 - preds_5_loss: 0.1411 - preds_6_loss: 0.3538 - preds_7_loss: 0.8114 - preds_8_loss: 0.5079 - preds_9_loss: 0.5820 - preds_10_loss: 0.5549 - preds_11_loss: 0.5074 - preds_12_loss: 0.5977 - preds_13_loss: 0.5482 - preds_14_loss: 0.8109 - preds_15_loss: 0.7062 - preds_16_loss: 0.7092 - preds_17_loss: 0.4526 - preds_18_loss: 0.6174 - preds_19_loss: 0.6807 - preds_0_accuracy: 0.9284 - preds_1_accuracy: 0.8733 - preds_2_accuracy: 0.8978 - preds_3_accuracy: 0.8929 - preds_4_accuracy: 0.7397 - preds_5_accuracy: 0.9608 - preds_6_accuracy: 0.9024 - preds_7_accuracy: 0.6984 - preds_8_accuracy: 0.8305 - preds_9_accuracy: 0.7942 - preds_10_accuracy: 0.8077 - preds_11_accuracy: 0.8262 - preds_12_accuracy: 0.7888 - preds_13_accuracy: 0.8169 - preds_14_accuracy: 0.6982 - preds_15_accuracy: 0.6914 - preds_16_accuracy: 0.7363 - preds_17_accuracy: 0.8571 - preds_18_accuracy: 0.7581 - preds_19_accuracy: 0.7066\n",
      "15000/15000 [==============================] - 8s 563us/step\n"
     ]
    },
    {
     "name": "stderr",
     "output_type": "stream",
     "text": [
      "/home/powerop/.pyenv/versions/python37/lib/python3.7/site-packages/sklearn/metrics/_classification.py:1248: UndefinedMetricWarning: Recall and F-score are ill-defined and being set to 0.0 in samples with no true labels. Use `zero_division` parameter to control this behavior.\n",
      "  _warn_prf(average, modifier, msg_start, len(result))\n"
     ]
    },
    {
     "name": "stdout",
     "output_type": "stream",
     "text": [
      "                                          precision    recall  f1-score   support\n",
      "\n",
      "            location_traffic_convenience     0.8957    0.8501    0.8723      3243\n",
      "location_distance_from_business_district     0.7134    0.6792    0.6959      2968\n",
      "                   location_easy_to_find     0.8654    0.7988    0.8307      3484\n",
      "                       service_wait_time     0.7901    0.4719    0.5909      1763\n",
      "                service_waiters_attitude     0.9093    0.8214    0.8631      9008\n",
      "             service_parking_convenience     0.9112    0.7956    0.8495       954\n",
      "                   service_serving_speed     0.8119    0.6728    0.7359      2323\n",
      "                             price_level     0.8941    0.7124    0.7930      7503\n",
      "                    price_cost_effective     0.8242    0.5120    0.6317      3572\n",
      "                          price_discount     0.8911    0.7719    0.8272      5738\n",
      "                  environment_decoration     0.8851    0.8551    0.8699      7199\n",
      "                       environment_noise     0.7867    0.7165    0.7499      4479\n",
      "                       environment_space     0.8178    0.7653    0.7907      5509\n",
      "                    environment_cleaness     0.8343    0.7631    0.7971      5404\n",
      "                            dish_portion     0.8441    0.6652    0.7441      6888\n",
      "                              dish_taste     0.9577    0.9960    0.9765     14244\n",
      "                               dish_look     0.7235    0.2122    0.3281      4242\n",
      "                     dish_recommendation     0.8360    0.4422    0.5785      2917\n",
      "               others_overall_experience     0.9810    1.0000    0.9904     14715\n",
      "         others_willing_to_consume_again     0.8115    0.3913    0.5280      5646\n",
      "\n",
      "                               micro avg     0.8875    0.7630    0.8205    111799\n",
      "                               macro avg     0.8492    0.6947    0.7522    111799\n",
      "                            weighted avg     0.8769    0.7630    0.8053    111799\n",
      "                             samples avg     0.8937    0.7798    0.8169    111799\n",
      "\n",
      "              precision    recall  f1-score   support\n",
      "\n",
      "         未提及     0.8700    0.9425    0.9048    188201\n",
      "           负     0.6680    0.4741    0.5546     12789\n",
      "           中     0.6280    0.4072    0.4940     25929\n",
      "           正     0.7589    0.7293    0.7438     73081\n",
      "\n",
      "    accuracy                         0.8243    300000\n",
      "   macro avg     0.7312    0.6383    0.6743    300000\n",
      "weighted avg     0.8134    0.8243    0.8152    300000\n",
      "\n",
      "f1_score_average 0.8224 <class 'float'>\n",
      "val_f1: 0.82240, best_val_f1: 0.82240\n",
      "\n",
      "Epoch 5/25\n",
      "105000/105000 [==============================] - 336s 3ms/step - loss: 10.1440 - preds_0_loss: 0.2389 - preds_1_loss: 0.3357 - preds_2_loss: 0.3273 - preds_3_loss: 0.3226 - preds_4_loss: 0.6565 - preds_5_loss: 0.1348 - preds_6_loss: 0.3361 - preds_7_loss: 0.7787 - preds_8_loss: 0.4925 - preds_9_loss: 0.5655 - preds_10_loss: 0.5330 - preds_11_loss: 0.4889 - preds_12_loss: 0.5711 - preds_13_loss: 0.5280 - preds_14_loss: 0.7774 - preds_15_loss: 0.6769 - preds_16_loss: 0.6777 - preds_17_loss: 0.4407 - preds_18_loss: 0.6044 - preds_19_loss: 0.6568 - preds_0_accuracy: 0.9324 - preds_1_accuracy: 0.8780 - preds_2_accuracy: 0.9012 - preds_3_accuracy: 0.8969 - preds_4_accuracy: 0.7472 - preds_5_accuracy: 0.9631 - preds_6_accuracy: 0.9061 - preds_7_accuracy: 0.7122 - preds_8_accuracy: 0.8349 - preds_9_accuracy: 0.7998 - preds_10_accuracy: 0.8157 - preds_11_accuracy: 0.8323 - preds_12_accuracy: 0.7987 - preds_13_accuracy: 0.8237 - preds_14_accuracy: 0.7098 - preds_15_accuracy: 0.7053 - preds_16_accuracy: 0.7521 - preds_17_accuracy: 0.8615 - preds_18_accuracy: 0.7637 - preds_19_accuracy: 0.7167\n",
      "15000/15000 [==============================] - 8s 558us/step\n"
     ]
    },
    {
     "name": "stderr",
     "output_type": "stream",
     "text": [
      "/home/powerop/.pyenv/versions/python37/lib/python3.7/site-packages/sklearn/metrics/_classification.py:1248: UndefinedMetricWarning: Recall and F-score are ill-defined and being set to 0.0 in samples with no true labels. Use `zero_division` parameter to control this behavior.\n",
      "  _warn_prf(average, modifier, msg_start, len(result))\n"
     ]
    },
    {
     "name": "stdout",
     "output_type": "stream",
     "text": [
      "                                          precision    recall  f1-score   support\n",
      "\n",
      "            location_traffic_convenience     0.8813    0.8656    0.8734      3243\n",
      "location_distance_from_business_district     0.7666    0.6176    0.6841      2968\n",
      "                   location_easy_to_find     0.8978    0.7844    0.8373      3484\n",
      "                       service_wait_time     0.7865    0.5014    0.6124      1763\n",
      "                service_waiters_attitude     0.9303    0.7956    0.8577      9008\n",
      "             service_parking_convenience     0.9327    0.7841    0.8519       954\n",
      "                   service_serving_speed     0.8929    0.6281    0.7374      2323\n",
      "                             price_level     0.8727    0.7656    0.8156      7503\n",
      "                    price_cost_effective     0.8278    0.5154    0.6353      3572\n",
      "                          price_discount     0.8761    0.8121    0.8429      5738\n",
      "                  environment_decoration     0.9026    0.8419    0.8712      7199\n",
      "                       environment_noise     0.7949    0.7200    0.7556      4479\n",
      "                       environment_space     0.8179    0.7622    0.7891      5509\n",
      "                    environment_cleaness     0.8654    0.7295    0.7916      5404\n",
      "                            dish_portion     0.8690    0.6356    0.7342      6888\n",
      "                              dish_taste     0.9609    0.9959    0.9781     14244\n",
      "                               dish_look     0.7296    0.3199    0.4448      4242\n",
      "                     dish_recommendation     0.8257    0.4727    0.6013      2917\n",
      "               others_overall_experience     0.9810    1.0000    0.9904     14715\n",
      "         others_willing_to_consume_again     0.7464    0.5030    0.6010      5646\n",
      "\n",
      "                               micro avg     0.8918    0.7706    0.8268    111799\n",
      "                               macro avg     0.8579    0.7025    0.7653    111799\n",
      "                            weighted avg     0.8819    0.7706    0.8159    111799\n",
      "                             samples avg     0.8972    0.7878    0.8229    111799\n",
      "\n",
      "              precision    recall  f1-score   support\n",
      "\n",
      "         未提及     0.8739    0.9445    0.9078    188201\n",
      "           负     0.6808    0.5052    0.5800     12789\n",
      "           中     0.6218    0.4574    0.5271     25929\n",
      "           正     0.7801    0.7263    0.7523     73081\n",
      "\n",
      "    accuracy                         0.8305    300000\n",
      "   macro avg     0.7392    0.6584    0.6918    300000\n",
      "weighted avg     0.8211    0.8305    0.8231    300000\n",
      "\n",
      "f1_score_average 0.8287 <class 'float'>\n",
      "val_f1: 0.82870, best_val_f1: 0.82870\n",
      "\n",
      "Epoch 6/25\n",
      "105000/105000 [==============================] - 335s 3ms/step - loss: 9.8453 - preds_0_loss: 0.2310 - preds_1_loss: 0.3241 - preds_2_loss: 0.3151 - preds_3_loss: 0.3121 - preds_4_loss: 0.6386 - preds_5_loss: 0.1297 - preds_6_loss: 0.3226 - preds_7_loss: 0.7582 - preds_8_loss: 0.4807 - preds_9_loss: 0.5524 - preds_10_loss: 0.5151 - preds_11_loss: 0.4758 - preds_12_loss: 0.5523 - preds_13_loss: 0.5114 - preds_14_loss: 0.7557 - preds_15_loss: 0.6519 - preds_16_loss: 0.6575 - preds_17_loss: 0.4308 - preds_18_loss: 0.5891 - preds_19_loss: 0.6411 - preds_0_accuracy: 0.9339 - preds_1_accuracy: 0.8820 - preds_2_accuracy: 0.9046 - preds_3_accuracy: 0.9004 - preds_4_accuracy: 0.7543 - preds_5_accuracy: 0.9645 - preds_6_accuracy: 0.9099 - preds_7_accuracy: 0.7201 - preds_8_accuracy: 0.8388 - preds_9_accuracy: 0.8040 - preds_10_accuracy: 0.8225 - preds_11_accuracy: 0.8368 - preds_12_accuracy: 0.8055 - preds_13_accuracy: 0.8285 - preds_14_accuracy: 0.7176 - preds_15_accuracy: 0.7168 - preds_16_accuracy: 0.7606 - preds_17_accuracy: 0.8645 - preds_18_accuracy: 0.7715 - preds_19_accuracy: 0.7224\n",
      "15000/15000 [==============================] - 8s 566us/step\n"
     ]
    },
    {
     "name": "stderr",
     "output_type": "stream",
     "text": [
      "/home/powerop/.pyenv/versions/python37/lib/python3.7/site-packages/sklearn/metrics/_classification.py:1248: UndefinedMetricWarning: Recall and F-score are ill-defined and being set to 0.0 in samples with no true labels. Use `zero_division` parameter to control this behavior.\n",
      "  _warn_prf(average, modifier, msg_start, len(result))\n"
     ]
    },
    {
     "name": "stdout",
     "output_type": "stream",
     "text": [
      "                                          precision    recall  f1-score   support\n",
      "\n",
      "            location_traffic_convenience     0.9037    0.8449    0.8733      3243\n",
      "location_distance_from_business_district     0.7438    0.6769    0.7088      2968\n",
      "                   location_easy_to_find     0.8934    0.7890    0.8380      3484\n",
      "                       service_wait_time     0.7780    0.5445    0.6406      1763\n",
      "                service_waiters_attitude     0.9300    0.8022    0.8614      9008\n",
      "             service_parking_convenience     0.9352    0.7862    0.8542       954\n",
      "                   service_serving_speed     0.8878    0.6371    0.7419      2323\n",
      "                             price_level     0.8698    0.7710    0.8174      7503\n",
      "                    price_cost_effective     0.8026    0.5770    0.6713      3572\n",
      "                          price_discount     0.8767    0.8142    0.8443      5738\n",
      "                  environment_decoration     0.8902    0.8612    0.8755      7199\n",
      "                       environment_noise     0.8094    0.7046    0.7534      4479\n",
      "                       environment_space     0.8264    0.7559    0.7895      5509\n",
      "                    environment_cleaness     0.8592    0.7430    0.7969      5404\n",
      "                            dish_portion     0.8673    0.6417    0.7377      6888\n",
      "                              dish_taste     0.9638    0.9935    0.9785     14244\n",
      "                               dish_look     0.7585    0.3168    0.4470      4242\n",
      "                     dish_recommendation     0.8379    0.4786    0.6092      2917\n",
      "               others_overall_experience     0.9810    1.0000    0.9904     14715\n",
      "         others_willing_to_consume_again     0.7421    0.5163    0.6089      5646\n",
      "\n",
      "                               micro avg     0.8909    0.7774    0.8303    111799\n",
      "                               macro avg     0.8578    0.7127    0.7719    111799\n",
      "                            weighted avg     0.8819    0.7774    0.8202    111799\n",
      "                             samples avg     0.8958    0.7949    0.8264    111799\n",
      "\n",
      "              precision    recall  f1-score   support\n",
      "\n",
      "         未提及     0.8771    0.9434    0.9090    188201\n",
      "           负     0.6856    0.5214    0.5923     12789\n",
      "           中     0.6312    0.4517    0.5266     25929\n",
      "           正     0.7797    0.7390    0.7588     73081\n",
      "\n",
      "    accuracy                         0.8332    300000\n",
      "   macro avg     0.7434    0.6639    0.6967    300000\n",
      "weighted avg     0.8239    0.8332    0.8259    300000\n",
      "\n",
      "f1_score_average 0.8317 <class 'float'>\n",
      "val_f1: 0.83170, best_val_f1: 0.83170\n",
      "\n",
      "Epoch 7/25\n",
      "105000/105000 [==============================] - 335s 3ms/step - loss: 9.6607 - preds_0_loss: 0.2266 - preds_1_loss: 0.3173 - preds_2_loss: 0.3066 - preds_3_loss: 0.3068 - preds_4_loss: 0.6255 - preds_5_loss: 0.1261 - preds_6_loss: 0.3154 - preds_7_loss: 0.7456 - preds_8_loss: 0.4740 - preds_9_loss: 0.5437 - preds_10_loss: 0.5025 - preds_11_loss: 0.4649 - preds_12_loss: 0.5415 - preds_13_loss: 0.5028 - preds_14_loss: 0.7391 - preds_15_loss: 0.6385 - preds_16_loss: 0.6475 - preds_17_loss: 0.4248 - preds_18_loss: 0.5810 - preds_19_loss: 0.6318 - preds_0_accuracy: 0.9353 - preds_1_accuracy: 0.8845 - preds_2_accuracy: 0.9070 - preds_3_accuracy: 0.9022 - preds_4_accuracy: 0.7600 - preds_5_accuracy: 0.9656 - preds_6_accuracy: 0.9111 - preds_7_accuracy: 0.7242 - preds_8_accuracy: 0.8404 - preds_9_accuracy: 0.8077 - preds_10_accuracy: 0.8268 - preds_11_accuracy: 0.8412 - preds_12_accuracy: 0.8092 - preds_13_accuracy: 0.8306 - preds_14_accuracy: 0.7244 - preds_15_accuracy: 0.7241 - preds_16_accuracy: 0.7639 - preds_17_accuracy: 0.8668 - preds_18_accuracy: 0.7745 - preds_19_accuracy: 0.7269\n",
      "15000/15000 [==============================] - 9s 569us/step\n"
     ]
    },
    {
     "name": "stderr",
     "output_type": "stream",
     "text": [
      "/home/powerop/.pyenv/versions/python37/lib/python3.7/site-packages/sklearn/metrics/_classification.py:1248: UndefinedMetricWarning: Recall and F-score are ill-defined and being set to 0.0 in samples with no true labels. Use `zero_division` parameter to control this behavior.\n",
      "  _warn_prf(average, modifier, msg_start, len(result))\n"
     ]
    },
    {
     "name": "stdout",
     "output_type": "stream",
     "text": [
      "                                          precision    recall  f1-score   support\n",
      "\n",
      "            location_traffic_convenience     0.8935    0.8566    0.8747      3243\n",
      "location_distance_from_business_district     0.7550    0.6553    0.7017      2968\n",
      "                   location_easy_to_find     0.8932    0.7922    0.8397      3484\n",
      "                       service_wait_time     0.7832    0.5615    0.6541      1763\n",
      "                service_waiters_attitude     0.9196    0.8149    0.8641      9008\n",
      "             service_parking_convenience     0.9390    0.7746    0.8489       954\n",
      "                   service_serving_speed     0.8598    0.6733    0.7552      2323\n",
      "                             price_level     0.8786    0.7582    0.8140      7503\n",
      "                    price_cost_effective     0.8019    0.5711    0.6671      3572\n",
      "                          price_discount     0.8735    0.8181    0.8449      5738\n",
      "                  environment_decoration     0.8990    0.8532    0.8755      7199\n",
      "                       environment_noise     0.8093    0.7095    0.7561      4479\n",
      "                       environment_space     0.8214    0.7613    0.7902      5509\n",
      "                    environment_cleaness     0.8530    0.7550    0.8010      5404\n",
      "                            dish_portion     0.8600    0.6556    0.7440      6888\n",
      "                              dish_taste     0.9635    0.9938    0.9784     14244\n",
      "                               dish_look     0.7681    0.3303    0.4619      4242\n",
      "                     dish_recommendation     0.8253    0.4875    0.6129      2917\n",
      "               others_overall_experience     0.9810    1.0000    0.9904     14715\n",
      "         others_willing_to_consume_again     0.7767    0.4830    0.5956      5646\n",
      "\n",
      "                               micro avg     0.8915    0.7788    0.8313    111799\n",
      "                               macro avg     0.8577    0.7153    0.7735    111799\n",
      "                            weighted avg     0.8823    0.7788    0.8211    111799\n",
      "                             samples avg     0.8967    0.7961    0.8274    111799\n",
      "\n",
      "              precision    recall  f1-score   support\n",
      "\n",
      "         未提及     0.8778    0.9437    0.9095    188201\n",
      "           负     0.6748    0.5396    0.5997     12789\n",
      "           中     0.6301    0.4584    0.5307     25929\n",
      "           正     0.7841    0.7358    0.7591     73081\n",
      "\n",
      "    accuracy                         0.8339    300000\n",
      "   macro avg     0.7417    0.6694    0.6998    300000\n",
      "weighted avg     0.8249    0.8339    0.8270    300000\n",
      "\n",
      "f1_score_average 0.8326 <class 'float'>\n",
      "val_f1: 0.83260, best_val_f1: 0.83260\n",
      "\n",
      "Epoch 8/25\n",
      "105000/105000 [==============================] - 335s 3ms/step - loss: 9.6066 - preds_0_loss: 0.2240 - preds_1_loss: 0.3146 - preds_2_loss: 0.3042 - preds_3_loss: 0.3043 - preds_4_loss: 0.6226 - preds_5_loss: 0.1260 - preds_6_loss: 0.3130 - preds_7_loss: 0.7424 - preds_8_loss: 0.4719 - preds_9_loss: 0.5405 - preds_10_loss: 0.5001 - preds_11_loss: 0.4627 - preds_12_loss: 0.5376 - preds_13_loss: 0.4988 - preds_14_loss: 0.7347 - preds_15_loss: 0.6337 - preds_16_loss: 0.6443 - preds_17_loss: 0.4239 - preds_18_loss: 0.5775 - preds_19_loss: 0.6296 - preds_0_accuracy: 0.9357 - preds_1_accuracy: 0.8848 - preds_2_accuracy: 0.9073 - preds_3_accuracy: 0.9027 - preds_4_accuracy: 0.7608 - preds_5_accuracy: 0.9661 - preds_6_accuracy: 0.9119 - preds_7_accuracy: 0.7254 - preds_8_accuracy: 0.8418 - preds_9_accuracy: 0.8082 - preds_10_accuracy: 0.8266 - preds_11_accuracy: 0.8414 - preds_12_accuracy: 0.8103 - preds_13_accuracy: 0.8327 - preds_14_accuracy: 0.7250 - preds_15_accuracy: 0.7273 - preds_16_accuracy: 0.7647 - preds_17_accuracy: 0.8675 - preds_18_accuracy: 0.7767 - preds_19_accuracy: 0.7272\n",
      "15000/15000 [==============================] - 8s 564us/step\n"
     ]
    },
    {
     "name": "stderr",
     "output_type": "stream",
     "text": [
      "/home/powerop/.pyenv/versions/python37/lib/python3.7/site-packages/sklearn/metrics/_classification.py:1248: UndefinedMetricWarning: Recall and F-score are ill-defined and being set to 0.0 in samples with no true labels. Use `zero_division` parameter to control this behavior.\n",
      "  _warn_prf(average, modifier, msg_start, len(result))\n"
     ]
    },
    {
     "name": "stdout",
     "output_type": "stream",
     "text": [
      "                                          precision    recall  f1-score   support\n",
      "\n",
      "            location_traffic_convenience     0.8988    0.8514    0.8744      3243\n",
      "location_distance_from_business_district     0.7573    0.6540    0.7019      2968\n",
      "                   location_easy_to_find     0.8942    0.7905    0.8391      3484\n",
      "                       service_wait_time     0.7926    0.5377    0.6408      1763\n",
      "                service_waiters_attitude     0.9172    0.8203    0.8660      9008\n",
      "             service_parking_convenience     0.9352    0.7872    0.8549       954\n",
      "                   service_serving_speed     0.8806    0.6543    0.7508      2323\n",
      "                             price_level     0.8760    0.7626    0.8154      7503\n",
      "                    price_cost_effective     0.8029    0.5736    0.6692      3572\n",
      "                          price_discount     0.8734    0.8179    0.8447      5738\n",
      "                  environment_decoration     0.8912    0.8632    0.8769      7199\n",
      "                       environment_noise     0.8114    0.7071    0.7557      4479\n",
      "                       environment_space     0.8255    0.7539    0.7880      5509\n",
      "                    environment_cleaness     0.8594    0.7474    0.7995      5404\n",
      "                            dish_portion     0.8659    0.6479    0.7412      6888\n",
      "                              dish_taste     0.9637    0.9936    0.9784     14244\n",
      "                               dish_look     0.7598    0.3475    0.4769      4242\n",
      "                     dish_recommendation     0.8180    0.4947    0.6165      2917\n",
      "               others_overall_experience     0.9810    1.0000    0.9904     14715\n",
      "         others_willing_to_consume_again     0.7648    0.4942    0.6004      5646\n",
      "\n",
      "                               micro avg     0.8914    0.7794    0.8317    111799\n",
      "                               macro avg     0.8584    0.7149    0.7741    111799\n",
      "                            weighted avg     0.8821    0.7794    0.8218    111799\n",
      "                             samples avg     0.8964    0.7968    0.8277    111799\n",
      "\n",
      "              precision    recall  f1-score   support\n",
      "\n",
      "         未提及     0.8781    0.9436    0.9097    188201\n",
      "           负     0.7035    0.5129    0.5932     12789\n",
      "           中     0.6311    0.4635    0.5345     25929\n",
      "           正     0.7808    0.7413    0.7605     73081\n",
      "\n",
      "    accuracy                         0.8345    300000\n",
      "   macro avg     0.7483    0.6653    0.6995    300000\n",
      "weighted avg     0.8256    0.8345    0.8274    300000\n",
      "\n",
      "f1_score_average 0.8331 <class 'float'>\n",
      "val_f1: 0.83310, best_val_f1: 0.83310\n",
      "\n",
      "Epoch 9/25\n",
      "105000/105000 [==============================] - 335s 3ms/step - loss: 9.5818 - preds_0_loss: 0.2234 - preds_1_loss: 0.3149 - preds_2_loss: 0.3025 - preds_3_loss: 0.3033 - preds_4_loss: 0.6205 - preds_5_loss: 0.1252 - preds_6_loss: 0.3112 - preds_7_loss: 0.7414 - preds_8_loss: 0.4700 - preds_9_loss: 0.5400 - preds_10_loss: 0.4975 - preds_11_loss: 0.4617 - preds_12_loss: 0.5363 - preds_13_loss: 0.4979 - preds_14_loss: 0.7319 - preds_15_loss: 0.6322 - preds_16_loss: 0.6428 - preds_17_loss: 0.4235 - preds_18_loss: 0.5772 - preds_19_loss: 0.6279 - preds_0_accuracy: 0.9359 - preds_1_accuracy: 0.8854 - preds_2_accuracy: 0.9076 - preds_3_accuracy: 0.9032 - preds_4_accuracy: 0.7608 - preds_5_accuracy: 0.9661 - preds_6_accuracy: 0.9122 - preds_7_accuracy: 0.7261 - preds_8_accuracy: 0.8420 - preds_9_accuracy: 0.8086 - preds_10_accuracy: 0.8280 - preds_11_accuracy: 0.8410 - preds_12_accuracy: 0.8112 - preds_13_accuracy: 0.8323 - preds_14_accuracy: 0.7256 - preds_15_accuracy: 0.7262 - preds_16_accuracy: 0.7652 - preds_17_accuracy: 0.8677 - preds_18_accuracy: 0.7755 - preds_19_accuracy: 0.7276\n",
      "15000/15000 [==============================] - 8s 566us/step\n"
     ]
    },
    {
     "name": "stderr",
     "output_type": "stream",
     "text": [
      "/home/powerop/.pyenv/versions/python37/lib/python3.7/site-packages/sklearn/metrics/_classification.py:1248: UndefinedMetricWarning: Recall and F-score are ill-defined and being set to 0.0 in samples with no true labels. Use `zero_division` parameter to control this behavior.\n",
      "  _warn_prf(average, modifier, msg_start, len(result))\n"
     ]
    },
    {
     "name": "stdout",
     "output_type": "stream",
     "text": [
      "                                          precision    recall  f1-score   support\n",
      "\n",
      "            location_traffic_convenience     0.8898    0.8615    0.8755      3243\n",
      "location_distance_from_business_district     0.7471    0.6698    0.7063      2968\n",
      "                   location_easy_to_find     0.8840    0.8002    0.8400      3484\n",
      "                       service_wait_time     0.7806    0.5752    0.6623      1763\n",
      "                service_waiters_attitude     0.9189    0.8163    0.8646      9008\n",
      "             service_parking_convenience     0.9352    0.7862    0.8542       954\n",
      "                   service_serving_speed     0.8876    0.6526    0.7522      2323\n",
      "                             price_level     0.8766    0.7613    0.8149      7503\n",
      "                    price_cost_effective     0.8019    0.5759    0.6704      3572\n",
      "                          price_discount     0.8724    0.8189    0.8448      5738\n",
      "                  environment_decoration     0.8936    0.8597    0.8763      7199\n",
      "                       environment_noise     0.8151    0.7055    0.7563      4479\n",
      "                       environment_space     0.8260    0.7577    0.7904      5509\n",
      "                    environment_cleaness     0.8642    0.7409    0.7978      5404\n",
      "                            dish_portion     0.8614    0.6585    0.7464      6888\n",
      "                              dish_taste     0.9640    0.9935    0.9785     14244\n",
      "                               dish_look     0.7526    0.3593    0.4864      4242\n",
      "                     dish_recommendation     0.8095    0.5012    0.6191      2917\n",
      "               others_overall_experience     0.9810    1.0000    0.9904     14715\n",
      "         others_willing_to_consume_again     0.7617    0.5021    0.6053      5646\n",
      "\n",
      "                               micro avg     0.8900    0.7819    0.8325    111799\n",
      "                               macro avg     0.8562    0.7198    0.7766    111799\n",
      "                            weighted avg     0.8810    0.7819    0.8232    111799\n",
      "                             samples avg     0.8948    0.7997    0.8288    111799\n",
      "\n",
      "              precision    recall  f1-score   support\n",
      "\n",
      "         未提及     0.8792    0.9426    0.9098    188201\n",
      "           负     0.6894    0.5329    0.6011     12789\n",
      "           中     0.6342    0.4571    0.5313     25929\n",
      "           正     0.7796    0.7429    0.7608     73081\n",
      "\n",
      "    accuracy                         0.8345    300000\n",
      "   macro avg     0.7456    0.6689    0.7007    300000\n",
      "weighted avg     0.8256    0.8345    0.8276    300000\n",
      "\n",
      "f1_score_average 0.8335 <class 'float'>\n",
      "val_f1: 0.83350, best_val_f1: 0.83350\n",
      "\n",
      "Epoch 10/25\n",
      "105000/105000 [==============================] - 335s 3ms/step - loss: 9.5579 - preds_0_loss: 0.2226 - preds_1_loss: 0.3136 - preds_2_loss: 0.3010 - preds_3_loss: 0.3020 - preds_4_loss: 0.6196 - preds_5_loss: 0.1248 - preds_6_loss: 0.3100 - preds_7_loss: 0.7389 - preds_8_loss: 0.4704 - preds_9_loss: 0.5389 - preds_10_loss: 0.4956 - preds_11_loss: 0.4604 - preds_12_loss: 0.5358 - preds_13_loss: 0.4972 - preds_14_loss: 0.7303 - preds_15_loss: 0.6313 - preds_16_loss: 0.6410 - preds_17_loss: 0.4220 - preds_18_loss: 0.5762 - preds_19_loss: 0.6267 - preds_0_accuracy: 0.9357 - preds_1_accuracy: 0.8857 - preds_2_accuracy: 0.9080 - preds_3_accuracy: 0.9036 - preds_4_accuracy: 0.7621 - preds_5_accuracy: 0.9660 - preds_6_accuracy: 0.9130 - preds_7_accuracy: 0.7263 - preds_8_accuracy: 0.8424 - preds_9_accuracy: 0.8104 - preds_10_accuracy: 0.8286 - preds_11_accuracy: 0.8421 - preds_12_accuracy: 0.8113 - preds_13_accuracy: 0.8329 - preds_14_accuracy: 0.7270 - preds_15_accuracy: 0.7265 - preds_16_accuracy: 0.7663 - preds_17_accuracy: 0.8687 - preds_18_accuracy: 0.7762 - preds_19_accuracy: 0.7292\n",
      "15000/15000 [==============================] - 8s 560us/step\n"
     ]
    },
    {
     "name": "stderr",
     "output_type": "stream",
     "text": [
      "/home/powerop/.pyenv/versions/python37/lib/python3.7/site-packages/sklearn/metrics/_classification.py:1248: UndefinedMetricWarning: Recall and F-score are ill-defined and being set to 0.0 in samples with no true labels. Use `zero_division` parameter to control this behavior.\n",
      "  _warn_prf(average, modifier, msg_start, len(result))\n"
     ]
    },
    {
     "name": "stdout",
     "output_type": "stream",
     "text": [
      "                                          precision    recall  f1-score   support\n",
      "\n",
      "            location_traffic_convenience     0.8952    0.8532    0.8737      3243\n",
      "location_distance_from_business_district     0.7453    0.6664    0.7037      2968\n",
      "                   location_easy_to_find     0.8890    0.7979    0.8410      3484\n",
      "                       service_wait_time     0.7862    0.5508    0.6478      1763\n",
      "                service_waiters_attitude     0.9230    0.8122    0.8641      9008\n",
      "             service_parking_convenience     0.9348    0.7820    0.8516       954\n",
      "                   service_serving_speed     0.8546    0.6733    0.7532      2323\n",
      "                             price_level     0.8794    0.7580    0.8142      7503\n",
      "                    price_cost_effective     0.8058    0.5647    0.6640      3572\n",
      "                          price_discount     0.8779    0.8132    0.8443      5738\n",
      "                  environment_decoration     0.8988    0.8575    0.8777      7199\n",
      "                       environment_noise     0.8136    0.7046    0.7552      4479\n",
      "                       environment_space     0.8239    0.7620    0.7918      5509\n",
      "                    environment_cleaness     0.8619    0.7413    0.7971      5404\n",
      "                            dish_portion     0.8664    0.6504    0.7430      6888\n",
      "                              dish_taste     0.9633    0.9945    0.9787     14244\n",
      "                               dish_look     0.7589    0.3503    0.4794      4242\n",
      "                     dish_recommendation     0.8281    0.4854    0.6121      2917\n",
      "               others_overall_experience     0.9810    1.0000    0.9904     14715\n",
      "         others_willing_to_consume_again     0.7736    0.4897    0.5998      5646\n",
      "\n",
      "                               micro avg     0.8924    0.7786    0.8316    111799\n",
      "                               macro avg     0.8580    0.7154    0.7741    111799\n",
      "                            weighted avg     0.8832    0.7786    0.8218    111799\n",
      "                             samples avg     0.8976    0.7958    0.8278    111799\n",
      "\n",
      "              precision    recall  f1-score   support\n",
      "\n",
      "         未提及     0.8778    0.9442    0.9098    188201\n",
      "           负     0.6764    0.5437    0.6029     12789\n",
      "           中     0.6272    0.4726    0.5390     25929\n",
      "           正     0.7897    0.7320    0.7597     73081\n",
      "\n",
      "    accuracy                         0.8347    300000\n",
      "   macro avg     0.7428    0.6731    0.7028    300000\n",
      "weighted avg     0.8261    0.8347    0.8281    300000\n",
      "\n",
      "f1_score_average 0.8331 <class 'float'>\n",
      "val_f1: 0.83310, best_val_f1: 0.83350\n",
      "\n",
      "Epoch 11/25\n",
      "105000/105000 [==============================] - 337s 3ms/step - loss: 9.5316 - preds_0_loss: 0.2223 - preds_1_loss: 0.3127 - preds_2_loss: 0.2997 - preds_3_loss: 0.3019 - preds_4_loss: 0.6179 - preds_5_loss: 0.1243 - preds_6_loss: 0.3095 - preds_7_loss: 0.7383 - preds_8_loss: 0.4690 - preds_9_loss: 0.5373 - preds_10_loss: 0.4944 - preds_11_loss: 0.4595 - preds_12_loss: 0.5325 - preds_13_loss: 0.4957 - preds_14_loss: 0.7277 - preds_15_loss: 0.6281 - preds_16_loss: 0.6402 - preds_17_loss: 0.4208 - preds_18_loss: 0.5744 - preds_19_loss: 0.6257 - preds_0_accuracy: 0.9363 - preds_1_accuracy: 0.8865 - preds_2_accuracy: 0.9079 - preds_3_accuracy: 0.9038 - preds_4_accuracy: 0.7622 - preds_5_accuracy: 0.9666 - preds_6_accuracy: 0.9133 - preds_7_accuracy: 0.7274 - preds_8_accuracy: 0.8418 - preds_9_accuracy: 0.8106 - preds_10_accuracy: 0.8290 - preds_11_accuracy: 0.8428 - preds_12_accuracy: 0.8124 - preds_13_accuracy: 0.8337 - preds_14_accuracy: 0.7267 - preds_15_accuracy: 0.7282 - preds_16_accuracy: 0.7665 - preds_17_accuracy: 0.8685 - preds_18_accuracy: 0.7768 - preds_19_accuracy: 0.7284\n",
      "15000/15000 [==============================] - 8s 565us/step\n"
     ]
    },
    {
     "name": "stderr",
     "output_type": "stream",
     "text": [
      "/home/powerop/.pyenv/versions/python37/lib/python3.7/site-packages/sklearn/metrics/_classification.py:1248: UndefinedMetricWarning: Recall and F-score are ill-defined and being set to 0.0 in samples with no true labels. Use `zero_division` parameter to control this behavior.\n",
      "  _warn_prf(average, modifier, msg_start, len(result))\n"
     ]
    },
    {
     "name": "stdout",
     "output_type": "stream",
     "text": [
      "                                          precision    recall  f1-score   support\n",
      "\n",
      "            location_traffic_convenience     0.8965    0.8545    0.8750      3243\n",
      "location_distance_from_business_district     0.7625    0.6479    0.7005      2968\n",
      "                   location_easy_to_find     0.8924    0.7931    0.8398      3484\n",
      "                       service_wait_time     0.7882    0.5530    0.6500      1763\n",
      "                service_waiters_attitude     0.9266    0.8045    0.8613      9008\n",
      "             service_parking_convenience     0.9437    0.7736    0.8502       954\n",
      "                   service_serving_speed     0.8778    0.6616    0.7545      2323\n",
      "                             price_level     0.8828    0.7506    0.8114      7503\n",
      "                    price_cost_effective     0.8114    0.5602    0.6628      3572\n",
      "                          price_discount     0.8807    0.8095    0.8436      5738\n",
      "                  environment_decoration     0.9023    0.8515    0.8762      7199\n",
      "                       environment_noise     0.8178    0.6997    0.7542      4479\n",
      "                       environment_space     0.8284    0.7546    0.7898      5509\n",
      "                    environment_cleaness     0.8628    0.7461    0.8002      5404\n",
      "                            dish_portion     0.8715    0.6442    0.7408      6888\n",
      "                              dish_taste     0.9638    0.9937    0.9785     14244\n",
      "                               dish_look     0.7693    0.3435    0.4749      4242\n",
      "                     dish_recommendation     0.8357    0.4779    0.6081      2917\n",
      "               others_overall_experience     0.9810    1.0000    0.9904     14715\n",
      "         others_willing_to_consume_again     0.7802    0.4791    0.5937      5646\n",
      "\n",
      "                               micro avg     0.8965    0.7741    0.8308    111799\n",
      "                               macro avg     0.8638    0.7099    0.7728    111799\n",
      "                            weighted avg     0.8872    0.7741    0.8204    111799\n",
      "                             samples avg     0.9016    0.7917    0.8270    111799\n",
      "\n",
      "              precision    recall  f1-score   support\n",
      "\n",
      "         未提及     0.8759    0.9469    0.9100    188201\n",
      "           负     0.7085    0.5182    0.5986     12789\n",
      "           中     0.6360    0.4617    0.5350     25929\n",
      "           正     0.7872    0.7364    0.7609     73081\n",
      "\n",
      "    accuracy                         0.8354    300000\n",
      "   macro avg     0.7519    0.6658    0.7011    300000\n",
      "weighted avg     0.8264    0.8354    0.8280    300000\n",
      "\n",
      "f1_score_average 0.8331 <class 'float'>\n",
      "val_f1: 0.83310, best_val_f1: 0.83350\n",
      "\n",
      "Epoch 12/25\n",
      "105000/105000 [==============================] - 334s 3ms/step - loss: 9.5044 - preds_0_loss: 0.2202 - preds_1_loss: 0.3120 - preds_2_loss: 0.3002 - preds_3_loss: 0.3009 - preds_4_loss: 0.6155 - preds_5_loss: 0.1236 - preds_6_loss: 0.3082 - preds_7_loss: 0.7365 - preds_8_loss: 0.4674 - preds_9_loss: 0.5363 - preds_10_loss: 0.4930 - preds_11_loss: 0.4586 - preds_12_loss: 0.5321 - preds_13_loss: 0.4936 - preds_14_loss: 0.7257 - preds_15_loss: 0.6263 - preds_16_loss: 0.6384 - preds_17_loss: 0.4203 - preds_18_loss: 0.5733 - preds_19_loss: 0.6234 - preds_0_accuracy: 0.9368 - preds_1_accuracy: 0.8865 - preds_2_accuracy: 0.9083 - preds_3_accuracy: 0.9038 - preds_4_accuracy: 0.7627 - preds_5_accuracy: 0.9669 - preds_6_accuracy: 0.9133 - preds_7_accuracy: 0.7278 - preds_8_accuracy: 0.8431 - preds_9_accuracy: 0.8103 - preds_10_accuracy: 0.8295 - preds_11_accuracy: 0.8421 - preds_12_accuracy: 0.8118 - preds_13_accuracy: 0.8340 - preds_14_accuracy: 0.7288 - preds_15_accuracy: 0.7290 - preds_16_accuracy: 0.7671 - preds_17_accuracy: 0.8687 - preds_18_accuracy: 0.7779 - preds_19_accuracy: 0.7290\n",
      "15000/15000 [==============================] - 9s 571us/step\n"
     ]
    },
    {
     "name": "stderr",
     "output_type": "stream",
     "text": [
      "/home/powerop/.pyenv/versions/python37/lib/python3.7/site-packages/sklearn/metrics/_classification.py:1248: UndefinedMetricWarning: Recall and F-score are ill-defined and being set to 0.0 in samples with no true labels. Use `zero_division` parameter to control this behavior.\n",
      "  _warn_prf(average, modifier, msg_start, len(result))\n"
     ]
    },
    {
     "name": "stdout",
     "output_type": "stream",
     "text": [
      "                                          precision    recall  f1-score   support\n",
      "\n",
      "            location_traffic_convenience     0.8960    0.8554    0.8752      3243\n",
      "location_distance_from_business_district     0.7612    0.6509    0.7018      2968\n",
      "                   location_easy_to_find     0.8839    0.8017    0.8408      3484\n",
      "                       service_wait_time     0.7861    0.5649    0.6574      1763\n",
      "                service_waiters_attitude     0.9156    0.8206    0.8655      9008\n",
      "             service_parking_convenience     0.9405    0.7788    0.8521       954\n",
      "                   service_serving_speed     0.8681    0.6685    0.7554      2323\n",
      "                             price_level     0.8809    0.7562    0.8138      7503\n",
      "                    price_cost_effective     0.8140    0.5476    0.6547      3572\n",
      "                          price_discount     0.8780    0.8130    0.8443      5738\n",
      "                  environment_decoration     0.9002    0.8544    0.8767      7199\n",
      "                       environment_noise     0.8122    0.7069    0.7559      4479\n",
      "                       environment_space     0.8232    0.7647    0.7929      5509\n",
      "                    environment_cleaness     0.8601    0.7476    0.7999      5404\n",
      "                            dish_portion     0.8728    0.6408    0.7391      6888\n",
      "                              dish_taste     0.9643    0.9931    0.9785     14244\n",
      "                               dish_look     0.7563    0.3666    0.4938      4242\n",
      "                     dish_recommendation     0.8247    0.4885    0.6136      2917\n",
      "               others_overall_experience     0.9810    1.0000    0.9904     14715\n",
      "         others_willing_to_consume_again     0.7669    0.4982    0.6040      5646\n",
      "\n",
      "                               micro avg     0.8926    0.7792    0.8321    111799\n",
      "                               macro avg     0.8593    0.7159    0.7753    111799\n",
      "                            weighted avg     0.8835    0.7792    0.8224    111799\n",
      "                             samples avg     0.8980    0.7964    0.8283    111799\n",
      "\n",
      "              precision    recall  f1-score   support\n",
      "\n",
      "         未提及     0.8781    0.9443    0.9100    188201\n",
      "           负     0.6819    0.5434    0.6048     12789\n",
      "           中     0.6386    0.4575    0.5331     25929\n",
      "           正     0.7849    0.7392    0.7614     73081\n",
      "\n",
      "    accuracy                         0.8352    300000\n",
      "   macro avg     0.7459    0.6711    0.7023    300000\n",
      "weighted avg     0.8263    0.8352    0.8282    300000\n",
      "\n",
      "f1_score_average 0.8336 <class 'float'>\n",
      "val_f1: 0.83360, best_val_f1: 0.83360\n",
      "\n",
      "Epoch 13/25\n",
      "105000/105000 [==============================] - 334s 3ms/step - loss: 9.4815 - preds_0_loss: 0.2208 - preds_1_loss: 0.3101 - preds_2_loss: 0.2988 - preds_3_loss: 0.2998 - preds_4_loss: 0.6137 - preds_5_loss: 0.1228 - preds_6_loss: 0.3064 - preds_7_loss: 0.7335 - preds_8_loss: 0.4669 - preds_9_loss: 0.5352 - preds_10_loss: 0.4914 - preds_11_loss: 0.4568 - preds_12_loss: 0.5304 - preds_13_loss: 0.4927 - preds_14_loss: 0.7244 - preds_15_loss: 0.6254 - preds_16_loss: 0.6369 - preds_17_loss: 0.4193 - preds_18_loss: 0.5720 - preds_19_loss: 0.6234 - preds_0_accuracy: 0.9367 - preds_1_accuracy: 0.8876 - preds_2_accuracy: 0.9086 - preds_3_accuracy: 0.9044 - preds_4_accuracy: 0.7640 - preds_5_accuracy: 0.9672 - preds_6_accuracy: 0.9132 - preds_7_accuracy: 0.7287 - preds_8_accuracy: 0.8432 - preds_9_accuracy: 0.8094 - preds_10_accuracy: 0.8297 - preds_11_accuracy: 0.8437 - preds_12_accuracy: 0.8135 - preds_13_accuracy: 0.8348 - preds_14_accuracy: 0.7280 - preds_15_accuracy: 0.7298 - preds_16_accuracy: 0.7677 - preds_17_accuracy: 0.8691 - preds_18_accuracy: 0.7788 - preds_19_accuracy: 0.7291\n",
      "15000/15000 [==============================] - 8s 560us/step\n"
     ]
    },
    {
     "name": "stderr",
     "output_type": "stream",
     "text": [
      "/home/powerop/.pyenv/versions/python37/lib/python3.7/site-packages/sklearn/metrics/_classification.py:1248: UndefinedMetricWarning: Recall and F-score are ill-defined and being set to 0.0 in samples with no true labels. Use `zero_division` parameter to control this behavior.\n",
      "  _warn_prf(average, modifier, msg_start, len(result))\n"
     ]
    },
    {
     "name": "stdout",
     "output_type": "stream",
     "text": [
      "                                          precision    recall  f1-score   support\n",
      "\n",
      "            location_traffic_convenience     0.8966    0.8557    0.8757      3243\n",
      "location_distance_from_business_district     0.7426    0.6803    0.7100      2968\n",
      "                   location_easy_to_find     0.8810    0.8074    0.8426      3484\n",
      "                       service_wait_time     0.7795    0.5876    0.6701      1763\n",
      "                service_waiters_attitude     0.9159    0.8206    0.8656      9008\n",
      "             service_parking_convenience     0.9370    0.7945    0.8599       954\n",
      "                   service_serving_speed     0.8646    0.6707    0.7554      2323\n",
      "                             price_level     0.8811    0.7549    0.8132      7503\n",
      "                    price_cost_effective     0.7984    0.5876    0.6770      3572\n",
      "                          price_discount     0.8792    0.8120    0.8443      5738\n",
      "                  environment_decoration     0.9016    0.8528    0.8765      7199\n",
      "                       environment_noise     0.8136    0.7075    0.7569      4479\n",
      "                       environment_space     0.8270    0.7560    0.7899      5509\n",
      "                    environment_cleaness     0.8529    0.7574    0.8023      5404\n",
      "                            dish_portion     0.8513    0.6707    0.7503      6888\n",
      "                              dish_taste     0.9655    0.9919    0.9785     14244\n",
      "                               dish_look     0.7719    0.3510    0.4826      4242\n",
      "                     dish_recommendation     0.8198    0.4961    0.6181      2917\n",
      "               others_overall_experience     0.9810    1.0000    0.9904     14715\n",
      "         others_willing_to_consume_again     0.7470    0.5228    0.6151      5646\n",
      "\n",
      "                               micro avg     0.8892    0.7844    0.8335    111799\n",
      "                               macro avg     0.8554    0.7239    0.7787    111799\n",
      "                            weighted avg     0.8806    0.7844    0.8246    111799\n",
      "                             samples avg     0.8943    0.8017    0.8297    111799\n",
      "\n",
      "              precision    recall  f1-score   support\n",
      "\n",
      "         未提及     0.8803    0.9419    0.9101    188201\n",
      "           负     0.6762    0.5543    0.6092     12789\n",
      "           中     0.6334    0.4679    0.5382     25929\n",
      "           正     0.7844    0.7403    0.7617     73081\n",
      "\n",
      "    accuracy                         0.8353    300000\n",
      "   macro avg     0.7435    0.6761    0.7048    300000\n",
      "weighted avg     0.8269    0.8353    0.8290    300000\n",
      "\n",
      "f1_score_average 0.8344 <class 'float'>\n",
      "val_f1: 0.83440, best_val_f1: 0.83440\n",
      "\n",
      "Epoch 14/25\n",
      "105000/105000 [==============================] - 334s 3ms/step - loss: 9.4574 - preds_0_loss: 0.2197 - preds_1_loss: 0.3099 - preds_2_loss: 0.2963 - preds_3_loss: 0.2987 - preds_4_loss: 0.6134 - preds_5_loss: 0.1230 - preds_6_loss: 0.3062 - preds_7_loss: 0.7329 - preds_8_loss: 0.4660 - preds_9_loss: 0.5344 - preds_10_loss: 0.4895 - preds_11_loss: 0.4551 - preds_12_loss: 0.5272 - preds_13_loss: 0.4907 - preds_14_loss: 0.7229 - preds_15_loss: 0.6227 - preds_16_loss: 0.6364 - preds_17_loss: 0.4186 - preds_18_loss: 0.5713 - preds_19_loss: 0.6221 - preds_0_accuracy: 0.9366 - preds_1_accuracy: 0.8873 - preds_2_accuracy: 0.9089 - preds_3_accuracy: 0.9036 - preds_4_accuracy: 0.7650 - preds_5_accuracy: 0.9673 - preds_6_accuracy: 0.9136 - preds_7_accuracy: 0.7290 - preds_8_accuracy: 0.8426 - preds_9_accuracy: 0.8116 - preds_10_accuracy: 0.8298 - preds_11_accuracy: 0.8442 - preds_12_accuracy: 0.8145 - preds_13_accuracy: 0.8345 - preds_14_accuracy: 0.7282 - preds_15_accuracy: 0.7320 - preds_16_accuracy: 0.7675 - preds_17_accuracy: 0.8692 - preds_18_accuracy: 0.7791 - preds_19_accuracy: 0.7290\n",
      "15000/15000 [==============================] - 8s 554us/step\n"
     ]
    },
    {
     "name": "stderr",
     "output_type": "stream",
     "text": [
      "/home/powerop/.pyenv/versions/python37/lib/python3.7/site-packages/sklearn/metrics/_classification.py:1248: UndefinedMetricWarning: Recall and F-score are ill-defined and being set to 0.0 in samples with no true labels. Use `zero_division` parameter to control this behavior.\n",
      "  _warn_prf(average, modifier, msg_start, len(result))\n"
     ]
    },
    {
     "name": "stdout",
     "output_type": "stream",
     "text": [
      "                                          precision    recall  f1-score   support\n",
      "\n",
      "            location_traffic_convenience     0.8979    0.8569    0.8769      3243\n",
      "location_distance_from_business_district     0.7543    0.6600    0.7040      2968\n",
      "                   location_easy_to_find     0.8885    0.7985    0.8411      3484\n",
      "                       service_wait_time     0.7797    0.5842    0.6680      1763\n",
      "                service_waiters_attitude     0.9207    0.8154    0.8648      9008\n",
      "             service_parking_convenience     0.9369    0.7778    0.8499       954\n",
      "                   service_serving_speed     0.8630    0.6724    0.7559      2323\n",
      "                             price_level     0.8789    0.7561    0.8129      7503\n",
      "                    price_cost_effective     0.8011    0.5817    0.6740      3572\n",
      "                          price_discount     0.8787    0.8158    0.8461      5738\n",
      "                  environment_decoration     0.8963    0.8573    0.8764      7199\n",
      "                       environment_noise     0.8026    0.7189    0.7585      4479\n",
      "                       environment_space     0.8165    0.7746    0.7950      5509\n",
      "                    environment_cleaness     0.8543    0.7530    0.8004      5404\n",
      "                            dish_portion     0.8556    0.6648    0.7482      6888\n",
      "                              dish_taste     0.9658    0.9920    0.9787     14244\n",
      "                               dish_look     0.7708    0.3560    0.4870      4242\n",
      "                     dish_recommendation     0.8303    0.4813    0.6094      2917\n",
      "               others_overall_experience     0.9810    1.0000    0.9904     14715\n",
      "         others_willing_to_consume_again     0.7745    0.4903    0.6004      5646\n",
      "\n",
      "                               micro avg     0.8907    0.7823    0.8330    111799\n",
      "                               macro avg     0.8574    0.7203    0.7769    111799\n",
      "                            weighted avg     0.8821    0.7823    0.8236    111799\n",
      "                             samples avg     0.8962    0.7994    0.8291    111799\n",
      "\n",
      "              precision    recall  f1-score   support\n",
      "\n",
      "         未提及     0.8794    0.9430    0.9101    188201\n",
      "           负     0.6843    0.5448    0.6067     12789\n",
      "           中     0.6312    0.4674    0.5371     25929\n",
      "           正     0.7851    0.7392    0.7615     73081\n",
      "\n",
      "    accuracy                         0.8353    300000\n",
      "   macro avg     0.7450    0.6736    0.7038    300000\n",
      "weighted avg     0.8267    0.8353    0.8287    300000\n",
      "\n",
      "f1_score_average 0.8342 <class 'float'>\n",
      "val_f1: 0.83420, best_val_f1: 0.83440\n",
      "\n",
      "Epoch 15/25\n",
      "105000/105000 [==============================] - 334s 3ms/step - loss: 9.4389 - preds_0_loss: 0.2183 - preds_1_loss: 0.3085 - preds_2_loss: 0.2975 - preds_3_loss: 0.2988 - preds_4_loss: 0.6128 - preds_5_loss: 0.1222 - preds_6_loss: 0.3046 - preds_7_loss: 0.7307 - preds_8_loss: 0.4657 - preds_9_loss: 0.5328 - preds_10_loss: 0.4888 - preds_11_loss: 0.4552 - preds_12_loss: 0.5275 - preds_13_loss: 0.4906 - preds_14_loss: 0.7213 - preds_15_loss: 0.6207 - preds_16_loss: 0.6349 - preds_17_loss: 0.4188 - preds_18_loss: 0.5698 - preds_19_loss: 0.6201 - preds_0_accuracy: 0.9367 - preds_1_accuracy: 0.8880 - preds_2_accuracy: 0.9086 - preds_3_accuracy: 0.9044 - preds_4_accuracy: 0.7638 - preds_5_accuracy: 0.9675 - preds_6_accuracy: 0.9140 - preds_7_accuracy: 0.7301 - preds_8_accuracy: 0.8437 - preds_9_accuracy: 0.8117 - preds_10_accuracy: 0.8308 - preds_11_accuracy: 0.8440 - preds_12_accuracy: 0.8139 - preds_13_accuracy: 0.8352 - preds_14_accuracy: 0.7293 - preds_15_accuracy: 0.7318 - preds_16_accuracy: 0.7686 - preds_17_accuracy: 0.8690 - preds_18_accuracy: 0.7794 - preds_19_accuracy: 0.7305\n",
      "15000/15000 [==============================] - 8s 558us/step\n"
     ]
    },
    {
     "name": "stderr",
     "output_type": "stream",
     "text": [
      "/home/powerop/.pyenv/versions/python37/lib/python3.7/site-packages/sklearn/metrics/_classification.py:1248: UndefinedMetricWarning: Recall and F-score are ill-defined and being set to 0.0 in samples with no true labels. Use `zero_division` parameter to control this behavior.\n",
      "  _warn_prf(average, modifier, msg_start, len(result))\n"
     ]
    },
    {
     "name": "stdout",
     "output_type": "stream",
     "text": [
      "                                          precision    recall  f1-score   support\n",
      "\n",
      "            location_traffic_convenience     0.8881    0.8615    0.8746      3243\n",
      "location_distance_from_business_district     0.7455    0.6681    0.7047      2968\n",
      "                   location_easy_to_find     0.8852    0.7991    0.8399      3484\n",
      "                       service_wait_time     0.7819    0.5837    0.6684      1763\n",
      "                service_waiters_attitude     0.9113    0.8280    0.8677      9008\n",
      "             service_parking_convenience     0.9342    0.7893    0.8557       954\n",
      "                   service_serving_speed     0.8599    0.6737    0.7555      2323\n",
      "                             price_level     0.8691    0.7716    0.8174      7503\n",
      "                    price_cost_effective     0.7972    0.5820    0.6728      3572\n",
      "                          price_discount     0.8791    0.8133    0.8449      5738\n",
      "                  environment_decoration     0.8909    0.8651    0.8778      7199\n",
      "                       environment_noise     0.8063    0.7191    0.7602      4479\n",
      "                       environment_space     0.8173    0.7736    0.7949      5509\n",
      "                    environment_cleaness     0.8508    0.7585    0.8020      5404\n",
      "                            dish_portion     0.8557    0.6662    0.7492      6888\n",
      "                              dish_taste     0.9640    0.9937    0.9786     14244\n",
      "                               dish_look     0.7507    0.3784    0.5031      4242\n",
      "                     dish_recommendation     0.8265    0.4916    0.6165      2917\n",
      "               others_overall_experience     0.9810    1.0000    0.9904     14715\n",
      "         others_willing_to_consume_again     0.7666    0.5043    0.6083      5646\n",
      "\n",
      "                               micro avg     0.8867    0.7876    0.8342    111799\n",
      "                               macro avg     0.8531    0.7260    0.7791    111799\n",
      "                            weighted avg     0.8781    0.7876    0.8254    111799\n",
      "                             samples avg     0.8919    0.8050    0.8305    111799\n",
      "\n",
      "              precision    recall  f1-score   support\n",
      "\n",
      "         未提及     0.8817    0.9402    0.9100    188201\n",
      "           负     0.6895    0.5421    0.6070     12789\n",
      "           中     0.6318    0.4699    0.5390     25929\n",
      "           正     0.7793    0.7461    0.7624     73081\n",
      "\n",
      "    accuracy                         0.8353    300000\n",
      "   macro avg     0.7456    0.6746    0.7046    300000\n",
      "weighted avg     0.8270    0.8353    0.8291    300000\n",
      "\n",
      "f1_score_average 0.8348 <class 'float'>\n",
      "val_f1: 0.83480, best_val_f1: 0.83480\n",
      "\n",
      "Epoch 16/25\n",
      "105000/105000 [==============================] - 337s 3ms/step - loss: 9.4185 - preds_0_loss: 0.2184 - preds_1_loss: 0.3089 - preds_2_loss: 0.2951 - preds_3_loss: 0.2971 - preds_4_loss: 0.6110 - preds_5_loss: 0.1224 - preds_6_loss: 0.3044 - preds_7_loss: 0.7313 - preds_8_loss: 0.4648 - preds_9_loss: 0.5317 - preds_10_loss: 0.4881 - preds_11_loss: 0.4531 - preds_12_loss: 0.5255 - preds_13_loss: 0.4896 - preds_14_loss: 0.7198 - preds_15_loss: 0.6195 - preds_16_loss: 0.6332 - preds_17_loss: 0.4171 - preds_18_loss: 0.5685 - preds_19_loss: 0.6197 - preds_0_accuracy: 0.9376 - preds_1_accuracy: 0.8873 - preds_2_accuracy: 0.9093 - preds_3_accuracy: 0.9052 - preds_4_accuracy: 0.7651 - preds_5_accuracy: 0.9677 - preds_6_accuracy: 0.9136 - preds_7_accuracy: 0.7305 - preds_8_accuracy: 0.8430 - preds_9_accuracy: 0.8122 - preds_10_accuracy: 0.8313 - preds_11_accuracy: 0.8446 - preds_12_accuracy: 0.8151 - preds_13_accuracy: 0.8356 - preds_14_accuracy: 0.7304 - preds_15_accuracy: 0.7326 - preds_16_accuracy: 0.7688 - preds_17_accuracy: 0.8696 - preds_18_accuracy: 0.7796 - preds_19_accuracy: 0.7309\n",
      "15000/15000 [==============================] - 8s 565us/step\n"
     ]
    },
    {
     "name": "stderr",
     "output_type": "stream",
     "text": [
      "/home/powerop/.pyenv/versions/python37/lib/python3.7/site-packages/sklearn/metrics/_classification.py:1248: UndefinedMetricWarning: Recall and F-score are ill-defined and being set to 0.0 in samples with no true labels. Use `zero_division` parameter to control this behavior.\n",
      "  _warn_prf(average, modifier, msg_start, len(result))\n"
     ]
    },
    {
     "name": "stdout",
     "output_type": "stream",
     "text": [
      "                                          precision    recall  f1-score   support\n",
      "\n",
      "            location_traffic_convenience     0.9064    0.8480    0.8762      3243\n",
      "location_distance_from_business_district     0.7520    0.6621    0.7042      2968\n",
      "                   location_easy_to_find     0.8911    0.7942    0.8399      3484\n",
      "                       service_wait_time     0.7805    0.5910    0.6727      1763\n",
      "                service_waiters_attitude     0.9105    0.8280    0.8673      9008\n",
      "             service_parking_convenience     0.9438    0.7746    0.8509       954\n",
      "                   service_serving_speed     0.8576    0.6767    0.7565      2323\n",
      "                             price_level     0.8839    0.7520    0.8126      7503\n",
      "                    price_cost_effective     0.8171    0.5529    0.6595      3572\n",
      "                          price_discount     0.8817    0.8078    0.8431      5738\n",
      "                  environment_decoration     0.9015    0.8540    0.8771      7199\n",
      "                       environment_noise     0.8132    0.7104    0.7583      4479\n",
      "                       environment_space     0.8215    0.7700    0.7949      5509\n",
      "                    environment_cleaness     0.8560    0.7556    0.8026      5404\n",
      "                            dish_portion     0.8632    0.6559    0.7454      6888\n",
      "                              dish_taste     0.9644    0.9931    0.9786     14244\n",
      "                               dish_look     0.7620    0.3736    0.5014      4242\n",
      "                     dish_recommendation     0.8344    0.4820    0.6110      2917\n",
      "               others_overall_experience     0.9810    1.0000    0.9904     14715\n",
      "         others_willing_to_consume_again     0.7756    0.4874    0.5987      5646\n",
      "\n",
      "                               micro avg     0.8926    0.7811    0.8331    111799\n",
      "                               macro avg     0.8599    0.7185    0.7771    111799\n",
      "                            weighted avg     0.8838    0.7811    0.8236    111799\n",
      "                             samples avg     0.8978    0.7984    0.8293    111799\n",
      "\n",
      "              precision    recall  f1-score   support\n",
      "\n",
      "         未提及     0.8789    0.9442    0.9104    188201\n",
      "           负     0.6888    0.5437    0.6077     12789\n",
      "           中     0.6337    0.4698    0.5396     25929\n",
      "           正     0.7872    0.7380    0.7618     73081\n",
      "\n",
      "    accuracy                         0.8359    300000\n",
      "   macro avg     0.7471    0.6739    0.7049    300000\n",
      "weighted avg     0.8273    0.8359    0.8292    300000\n",
      "\n",
      "f1_score_average 0.8345 <class 'float'>\n",
      "val_f1: 0.83450, best_val_f1: 0.83480\n",
      "\n",
      "Epoch 17/25\n",
      "105000/105000 [==============================] - 334s 3ms/step - loss: 9.3907 - preds_0_loss: 0.2184 - preds_1_loss: 0.3078 - preds_2_loss: 0.2946 - preds_3_loss: 0.2966 - preds_4_loss: 0.6078 - preds_5_loss: 0.1215 - preds_6_loss: 0.3029 - preds_7_loss: 0.7280 - preds_8_loss: 0.4635 - preds_9_loss: 0.5309 - preds_10_loss: 0.4859 - preds_11_loss: 0.4527 - preds_12_loss: 0.5244 - preds_13_loss: 0.4878 - preds_14_loss: 0.7174 - preds_15_loss: 0.6177 - preds_16_loss: 0.6309 - preds_17_loss: 0.4155 - preds_18_loss: 0.5679 - preds_19_loss: 0.6184 - preds_0_accuracy: 0.9368 - preds_1_accuracy: 0.8870 - preds_2_accuracy: 0.9099 - preds_3_accuracy: 0.9048 - preds_4_accuracy: 0.7665 - preds_5_accuracy: 0.9678 - preds_6_accuracy: 0.9142 - preds_7_accuracy: 0.7317 - preds_8_accuracy: 0.8437 - preds_9_accuracy: 0.8116 - preds_10_accuracy: 0.8317 - preds_11_accuracy: 0.8444 - preds_12_accuracy: 0.8154 - preds_13_accuracy: 0.8359 - preds_14_accuracy: 0.7313 - preds_15_accuracy: 0.7340 - preds_16_accuracy: 0.7692 - preds_17_accuracy: 0.8705 - preds_18_accuracy: 0.7800 - preds_19_accuracy: 0.7309\n",
      "15000/15000 [==============================] - 8s 559us/step\n"
     ]
    },
    {
     "name": "stderr",
     "output_type": "stream",
     "text": [
      "/home/powerop/.pyenv/versions/python37/lib/python3.7/site-packages/sklearn/metrics/_classification.py:1248: UndefinedMetricWarning: Recall and F-score are ill-defined and being set to 0.0 in samples with no true labels. Use `zero_division` parameter to control this behavior.\n",
      "  _warn_prf(average, modifier, msg_start, len(result))\n"
     ]
    },
    {
     "name": "stdout",
     "output_type": "stream",
     "text": [
      "                                          precision    recall  f1-score   support\n",
      "\n",
      "            location_traffic_convenience     0.8936    0.8600    0.8765      3243\n",
      "location_distance_from_business_district     0.7297    0.6968    0.7129      2968\n",
      "                   location_easy_to_find     0.8907    0.7976    0.8416      3484\n",
      "                       service_wait_time     0.7877    0.5746    0.6645      1763\n",
      "                service_waiters_attitude     0.9156    0.8217    0.8661      9008\n",
      "             service_parking_convenience     0.9400    0.7715    0.8474       954\n",
      "                   service_serving_speed     0.8757    0.6672    0.7574      2323\n",
      "                             price_level     0.8802    0.7558    0.8133      7503\n",
      "                    price_cost_effective     0.8013    0.5848    0.6762      3572\n",
      "                          price_discount     0.8786    0.8133    0.8447      5738\n",
      "                  environment_decoration     0.8985    0.8596    0.8786      7199\n",
      "                       environment_noise     0.7951    0.7294    0.7608      4479\n",
      "                       environment_space     0.8203    0.7682    0.7934      5509\n",
      "                    environment_cleaness     0.8523    0.7593    0.8031      5404\n",
      "                            dish_portion     0.8515    0.6684    0.7489      6888\n",
      "                              dish_taste     0.9668    0.9906    0.9786     14244\n",
      "                               dish_look     0.7718    0.3548    0.4861      4242\n",
      "                     dish_recommendation     0.8336    0.4827    0.6114      2917\n",
      "               others_overall_experience     0.9810    1.0000    0.9904     14715\n",
      "         others_willing_to_consume_again     0.7513    0.5207    0.6151      5646\n",
      "\n",
      "                               micro avg     0.8883    0.7857    0.8338    111799\n",
      "                               macro avg     0.8558    0.7239    0.7783    111799\n",
      "                            weighted avg     0.8803    0.7857    0.8250    111799\n",
      "                             samples avg     0.8936    0.8028    0.8299    111799\n",
      "\n",
      "              precision    recall  f1-score   support\n",
      "\n",
      "         未提及     0.8809    0.9413    0.9101    188201\n",
      "           负     0.6733    0.5603    0.6116     12789\n",
      "           中     0.6403    0.4582    0.5342     25929\n",
      "           正     0.7819    0.7455    0.7633     73081\n",
      "\n",
      "    accuracy                         0.8356    300000\n",
      "   macro avg     0.7441    0.6763    0.7048    300000\n",
      "weighted avg     0.8271    0.8356    0.8291    300000\n",
      "\n",
      "f1_score_average 0.8347 <class 'float'>\n",
      "val_f1: 0.83470, best_val_f1: 0.83480\n",
      "\n",
      "Epoch 18/25\n",
      "105000/105000 [==============================] - 334s 3ms/step - loss: 9.3725 - preds_0_loss: 0.2168 - preds_1_loss: 0.3060 - preds_2_loss: 0.2938 - preds_3_loss: 0.2952 - preds_4_loss: 0.6065 - preds_5_loss: 0.1208 - preds_6_loss: 0.3020 - preds_7_loss: 0.7281 - preds_8_loss: 0.4627 - preds_9_loss: 0.5296 - preds_10_loss: 0.4851 - preds_11_loss: 0.4523 - preds_12_loss: 0.5235 - preds_13_loss: 0.4863 - preds_14_loss: 0.7153 - preds_15_loss: 0.6162 - preds_16_loss: 0.6307 - preds_17_loss: 0.4155 - preds_18_loss: 0.5671 - preds_19_loss: 0.6185 - preds_0_accuracy: 0.9378 - preds_1_accuracy: 0.8881 - preds_2_accuracy: 0.9094 - preds_3_accuracy: 0.9052 - preds_4_accuracy: 0.7655 - preds_5_accuracy: 0.9682 - preds_6_accuracy: 0.9146 - preds_7_accuracy: 0.7310 - preds_8_accuracy: 0.8437 - preds_9_accuracy: 0.8125 - preds_10_accuracy: 0.8317 - preds_11_accuracy: 0.8451 - preds_12_accuracy: 0.8158 - preds_13_accuracy: 0.8355 - preds_14_accuracy: 0.7313 - preds_15_accuracy: 0.7343 - preds_16_accuracy: 0.7703 - preds_17_accuracy: 0.8698 - preds_18_accuracy: 0.7796 - preds_19_accuracy: 0.7312\n",
      "15000/15000 [==============================] - 8s 562us/step\n"
     ]
    },
    {
     "name": "stderr",
     "output_type": "stream",
     "text": [
      "/home/powerop/.pyenv/versions/python37/lib/python3.7/site-packages/sklearn/metrics/_classification.py:1248: UndefinedMetricWarning: Recall and F-score are ill-defined and being set to 0.0 in samples with no true labels. Use `zero_division` parameter to control this behavior.\n",
      "  _warn_prf(average, modifier, msg_start, len(result))\n"
     ]
    },
    {
     "name": "stdout",
     "output_type": "stream",
     "text": [
      "                                          precision    recall  f1-score   support\n",
      "\n",
      "            location_traffic_convenience     0.8961    0.8566    0.8759      3243\n",
      "location_distance_from_business_district     0.7363    0.6830    0.7086      2968\n",
      "                   location_easy_to_find     0.8810    0.8051    0.8413      3484\n",
      "                       service_wait_time     0.7818    0.5791    0.6654      1763\n",
      "                service_waiters_attitude     0.9133    0.8252    0.8670      9008\n",
      "             service_parking_convenience     0.9334    0.7935    0.8578       954\n",
      "                   service_serving_speed     0.8630    0.6750    0.7575      2323\n",
      "                             price_level     0.8782    0.7585    0.8140      7503\n",
      "                    price_cost_effective     0.7998    0.5859    0.6764      3572\n",
      "                          price_discount     0.8704    0.8231    0.8461      5738\n",
      "                  environment_decoration     0.8942    0.8621    0.8779      7199\n",
      "                       environment_noise     0.8011    0.7214    0.7592      4479\n",
      "                       environment_space     0.8220    0.7689    0.7946      5509\n",
      "                    environment_cleaness     0.8523    0.7600    0.8035      5404\n",
      "                            dish_portion     0.8648    0.6565    0.7464      6888\n",
      "                              dish_taste     0.9673    0.9897    0.9783     14244\n",
      "                               dish_look     0.7679    0.3666    0.4963      4242\n",
      "                     dish_recommendation     0.8311    0.4858    0.6132      2917\n",
      "               others_overall_experience     0.9810    1.0000    0.9904     14715\n",
      "         others_willing_to_consume_again     0.7961    0.4779    0.5972      5646\n",
      "\n",
      "                               micro avg     0.8902    0.7843    0.8339    111799\n",
      "                               macro avg     0.8566    0.7237    0.7783    111799\n",
      "                            weighted avg     0.8820    0.7843    0.8244    111799\n",
      "                             samples avg     0.8954    0.8013    0.8299    111799\n",
      "\n",
      "              precision    recall  f1-score   support\n",
      "\n",
      "         未提及     0.8803    0.9425    0.9103    188201\n",
      "           负     0.6962    0.5391    0.6076     12789\n",
      "           中     0.6377    0.4652    0.5380     25929\n",
      "           正     0.7817    0.7454    0.7631     73081\n",
      "\n",
      "    accuracy                         0.8360    300000\n",
      "   macro avg     0.7490    0.6730    0.7048    300000\n",
      "weighted avg     0.8275    0.8360    0.8294    300000\n",
      "\n",
      "f1_score_average 0.8349 <class 'float'>\n",
      "val_f1: 0.83490, best_val_f1: 0.83490\n",
      "\n",
      "Epoch 19/25\n",
      "105000/105000 [==============================] - 334s 3ms/step - loss: 9.3513 - preds_0_loss: 0.2167 - preds_1_loss: 0.3062 - preds_2_loss: 0.2920 - preds_3_loss: 0.2955 - preds_4_loss: 0.6058 - preds_5_loss: 0.1204 - preds_6_loss: 0.3018 - preds_7_loss: 0.7264 - preds_8_loss: 0.4622 - preds_9_loss: 0.5285 - preds_10_loss: 0.4825 - preds_11_loss: 0.4504 - preds_12_loss: 0.5221 - preds_13_loss: 0.4858 - preds_14_loss: 0.7149 - preds_15_loss: 0.6142 - preds_16_loss: 0.6297 - preds_17_loss: 0.4145 - preds_18_loss: 0.5668 - preds_19_loss: 0.6160 - preds_0_accuracy: 0.9376 - preds_1_accuracy: 0.8885 - preds_2_accuracy: 0.9100 - preds_3_accuracy: 0.9056 - preds_4_accuracy: 0.7671 - preds_5_accuracy: 0.9682 - preds_6_accuracy: 0.9152 - preds_7_accuracy: 0.7319 - preds_8_accuracy: 0.8447 - preds_9_accuracy: 0.8127 - preds_10_accuracy: 0.8335 - preds_11_accuracy: 0.8457 - preds_12_accuracy: 0.8168 - preds_13_accuracy: 0.8373 - preds_14_accuracy: 0.7319 - preds_15_accuracy: 0.7356 - preds_16_accuracy: 0.7700 - preds_17_accuracy: 0.8702 - preds_18_accuracy: 0.7802 - preds_19_accuracy: 0.7324\n",
      "15000/15000 [==============================] - 9s 568us/step\n"
     ]
    },
    {
     "name": "stderr",
     "output_type": "stream",
     "text": [
      "/home/powerop/.pyenv/versions/python37/lib/python3.7/site-packages/sklearn/metrics/_classification.py:1248: UndefinedMetricWarning: Recall and F-score are ill-defined and being set to 0.0 in samples with no true labels. Use `zero_division` parameter to control this behavior.\n",
      "  _warn_prf(average, modifier, msg_start, len(result))\n"
     ]
    },
    {
     "name": "stdout",
     "output_type": "stream",
     "text": [
      "                                          precision    recall  f1-score   support\n",
      "\n",
      "            location_traffic_convenience     0.8886    0.8612    0.8747      3243\n",
      "location_distance_from_business_district     0.7447    0.6732    0.7071      2968\n",
      "                   location_easy_to_find     0.8896    0.7956    0.8400      3484\n",
      "                       service_wait_time     0.7778    0.5995    0.6771      1763\n",
      "                service_waiters_attitude     0.9150    0.8230    0.8666      9008\n",
      "             service_parking_convenience     0.9378    0.7904    0.8578       954\n",
      "                   service_serving_speed     0.8575    0.6789    0.7578      2323\n",
      "                             price_level     0.8764    0.7592    0.8136      7503\n",
      "                    price_cost_effective     0.7946    0.5957    0.6810      3572\n",
      "                          price_discount     0.8727    0.8186    0.8448      5738\n",
      "                  environment_decoration     0.9047    0.8504    0.8767      7199\n",
      "                       environment_noise     0.8211    0.7022    0.7570      4479\n",
      "                       environment_space     0.8312    0.7535    0.7904      5509\n",
      "                    environment_cleaness     0.8689    0.7393    0.7988      5404\n",
      "                            dish_portion     0.8528    0.6722    0.7518      6888\n",
      "                              dish_taste     0.9664    0.9913    0.9787     14244\n",
      "                               dish_look     0.7805    0.3562    0.4892      4242\n",
      "                     dish_recommendation     0.8232    0.4885    0.6132      2917\n",
      "               others_overall_experience     0.9810    1.0000    0.9904     14715\n",
      "         others_willing_to_consume_again     0.7721    0.4957    0.6038      5646\n",
      "\n",
      "                               micro avg     0.8917    0.7826    0.8336    111799\n",
      "                               macro avg     0.8578    0.7222    0.7785    111799\n",
      "                            weighted avg     0.8831    0.7826    0.8244    111799\n",
      "                             samples avg     0.8967    0.8002    0.8298    111799\n",
      "\n",
      "              precision    recall  f1-score   support\n",
      "\n",
      "         未提及     0.8796    0.9435    0.9105    188201\n",
      "           负     0.6678    0.5696    0.6148     12789\n",
      "           中     0.6389    0.4653    0.5384     25929\n",
      "           正     0.7893    0.7381    0.7628     73081\n",
      "\n",
      "    accuracy                         0.8362    300000\n",
      "   macro avg     0.7439    0.6791    0.7066    300000\n",
      "weighted avg     0.8278    0.8362    0.8297    300000\n",
      "\n",
      "f1_score_average 0.8349 <class 'float'>\n",
      "val_f1: 0.83490, best_val_f1: 0.83490\n",
      "\n",
      "Epoch 20/25\n",
      "105000/105000 [==============================] - 334s 3ms/step - loss: 9.3365 - preds_0_loss: 0.2162 - preds_1_loss: 0.3053 - preds_2_loss: 0.2917 - preds_3_loss: 0.2947 - preds_4_loss: 0.6053 - preds_5_loss: 0.1199 - preds_6_loss: 0.3005 - preds_7_loss: 0.7256 - preds_8_loss: 0.4621 - preds_9_loss: 0.5289 - preds_10_loss: 0.4818 - preds_11_loss: 0.4496 - preds_12_loss: 0.5203 - preds_13_loss: 0.4839 - preds_14_loss: 0.7124 - preds_15_loss: 0.6132 - preds_16_loss: 0.6294 - preds_17_loss: 0.4147 - preds_18_loss: 0.5654 - preds_19_loss: 0.6159 - preds_0_accuracy: 0.9372 - preds_1_accuracy: 0.8880 - preds_2_accuracy: 0.9100 - preds_3_accuracy: 0.9059 - preds_4_accuracy: 0.7665 - preds_5_accuracy: 0.9686 - preds_6_accuracy: 0.9152 - preds_7_accuracy: 0.7321 - preds_8_accuracy: 0.8447 - preds_9_accuracy: 0.8134 - preds_10_accuracy: 0.8328 - preds_11_accuracy: 0.8451 - preds_12_accuracy: 0.8160 - preds_13_accuracy: 0.8368 - preds_14_accuracy: 0.7329 - preds_15_accuracy: 0.7354 - preds_16_accuracy: 0.7708 - preds_17_accuracy: 0.8701 - preds_18_accuracy: 0.7806 - preds_19_accuracy: 0.7329\n",
      "15000/15000 [==============================] - 9s 570us/step\n"
     ]
    },
    {
     "name": "stderr",
     "output_type": "stream",
     "text": [
      "/home/powerop/.pyenv/versions/python37/lib/python3.7/site-packages/sklearn/metrics/_classification.py:1248: UndefinedMetricWarning: Recall and F-score are ill-defined and being set to 0.0 in samples with no true labels. Use `zero_division` parameter to control this behavior.\n",
      "  _warn_prf(average, modifier, msg_start, len(result))\n"
     ]
    },
    {
     "name": "stdout",
     "output_type": "stream",
     "text": [
      "                                          precision    recall  f1-score   support\n",
      "\n",
      "            location_traffic_convenience     0.9074    0.8495    0.8775      3243\n",
      "location_distance_from_business_district     0.7320    0.6883    0.7095      2968\n",
      "                   location_easy_to_find     0.8834    0.8022    0.8409      3484\n",
      "                       service_wait_time     0.7845    0.5740    0.6630      1763\n",
      "                service_waiters_attitude     0.9211    0.8141    0.8643      9008\n",
      "             service_parking_convenience     0.9434    0.7862    0.8576       954\n",
      "                   service_serving_speed     0.8689    0.6707    0.7570      2323\n",
      "                             price_level     0.8753    0.7652    0.8165      7503\n",
      "                    price_cost_effective     0.8073    0.5733    0.6705      3572\n",
      "                          price_discount     0.8762    0.8188    0.8465      5738\n",
      "                  environment_decoration     0.9038    0.8539    0.8781      7199\n",
      "                       environment_noise     0.8166    0.7046    0.7565      4479\n",
      "                       environment_space     0.8304    0.7591    0.7932      5509\n",
      "                    environment_cleaness     0.8561    0.7539    0.8017      5404\n",
      "                            dish_portion     0.8570    0.6619    0.7469      6888\n",
      "                              dish_taste     0.9667    0.9909    0.9787     14244\n",
      "                               dish_look     0.7757    0.3604    0.4922      4242\n",
      "                     dish_recommendation     0.8191    0.4998    0.6208      2917\n",
      "               others_overall_experience     0.9810    1.0000    0.9904     14715\n",
      "         others_willing_to_consume_again     0.7501    0.5243    0.6172      5646\n",
      "\n",
      "                               micro avg     0.8908    0.7838    0.8339    111799\n",
      "                               macro avg     0.8578    0.7226    0.7789    111799\n",
      "                            weighted avg     0.8825    0.7838    0.8251    111799\n",
      "                             samples avg     0.8962    0.8010    0.8300    111799\n",
      "\n",
      "              precision    recall  f1-score   support\n",
      "\n",
      "         未提及     0.8801    0.9429    0.9104    188201\n",
      "           负     0.7049    0.5333    0.6072     12789\n",
      "           中     0.6406    0.4637    0.5380     25929\n",
      "           正     0.7810    0.7473    0.7637     73081\n",
      "\n",
      "    accuracy                         0.8364    300000\n",
      "   macro avg     0.7517    0.6718    0.7048    300000\n",
      "weighted avg     0.8278    0.8364    0.8296    300000\n",
      "\n",
      "f1_score_average 0.8351 <class 'float'>\n",
      "val_f1: 0.83510, best_val_f1: 0.83510\n",
      "\n",
      "Epoch 21/25\n",
      "105000/105000 [==============================] - 334s 3ms/step - loss: 9.3171 - preds_0_loss: 0.2153 - preds_1_loss: 0.3046 - preds_2_loss: 0.2906 - preds_3_loss: 0.2941 - preds_4_loss: 0.6042 - preds_5_loss: 0.1200 - preds_6_loss: 0.3003 - preds_7_loss: 0.7241 - preds_8_loss: 0.4606 - preds_9_loss: 0.5274 - preds_10_loss: 0.4809 - preds_11_loss: 0.4485 - preds_12_loss: 0.5200 - preds_13_loss: 0.4836 - preds_14_loss: 0.7112 - preds_15_loss: 0.6116 - preds_16_loss: 0.6282 - preds_17_loss: 0.4136 - preds_18_loss: 0.5643 - preds_19_loss: 0.6146 - preds_0_accuracy: 0.9380 - preds_1_accuracy: 0.8884 - preds_2_accuracy: 0.9106 - preds_3_accuracy: 0.9056 - preds_4_accuracy: 0.7676 - preds_5_accuracy: 0.9682 - preds_6_accuracy: 0.9154 - preds_7_accuracy: 0.7328 - preds_8_accuracy: 0.8446 - preds_9_accuracy: 0.8141 - preds_10_accuracy: 0.8332 - preds_11_accuracy: 0.8452 - preds_12_accuracy: 0.8161 - preds_13_accuracy: 0.8367 - preds_14_accuracy: 0.7341 - preds_15_accuracy: 0.7365 - preds_16_accuracy: 0.7710 - preds_17_accuracy: 0.8705 - preds_18_accuracy: 0.7813 - preds_19_accuracy: 0.7326\n",
      "15000/15000 [==============================] - 8s 558us/step\n"
     ]
    },
    {
     "name": "stderr",
     "output_type": "stream",
     "text": [
      "/home/powerop/.pyenv/versions/python37/lib/python3.7/site-packages/sklearn/metrics/_classification.py:1248: UndefinedMetricWarning: Recall and F-score are ill-defined and being set to 0.0 in samples with no true labels. Use `zero_division` parameter to control this behavior.\n",
      "  _warn_prf(average, modifier, msg_start, len(result))\n"
     ]
    },
    {
     "name": "stdout",
     "output_type": "stream",
     "text": [
      "                                          precision    recall  f1-score   support\n",
      "\n",
      "            location_traffic_convenience     0.9015    0.8526    0.8764      3243\n",
      "location_distance_from_business_district     0.7401    0.6850    0.7115      2968\n",
      "                   location_easy_to_find     0.8824    0.8031    0.8409      3484\n",
      "                       service_wait_time     0.7784    0.5995    0.6773      1763\n",
      "                service_waiters_attitude     0.9109    0.8273    0.8671      9008\n",
      "             service_parking_convenience     0.9420    0.7830    0.8552       954\n",
      "                   service_serving_speed     0.8633    0.6741    0.7571      2323\n",
      "                             price_level     0.8765    0.7630    0.8158      7503\n",
      "                    price_cost_effective     0.8004    0.5848    0.6758      3572\n",
      "                          price_discount     0.8753    0.8207    0.8471      5738\n",
      "                  environment_decoration     0.9028    0.8532    0.8773      7199\n",
      "                       environment_noise     0.8112    0.7127    0.7587      4479\n",
      "                       environment_space     0.8269    0.7666    0.7956      5509\n",
      "                    environment_cleaness     0.8634    0.7483    0.8017      5404\n",
      "                            dish_portion     0.8460    0.6829    0.7558      6888\n",
      "                              dish_taste     0.9654    0.9928    0.9789     14244\n",
      "                               dish_look     0.7376    0.4010    0.5195      4242\n",
      "                     dish_recommendation     0.8245    0.4961    0.6194      2917\n",
      "               others_overall_experience     0.9810    1.0000    0.9904     14715\n",
      "         others_willing_to_consume_again     0.7708    0.4996    0.6063      5646\n",
      "\n",
      "                               micro avg     0.8886    0.7878    0.8352    111799\n",
      "                               macro avg     0.8550    0.7273    0.7814    111799\n",
      "                            weighted avg     0.8800    0.7878    0.8269    111799\n",
      "                             samples avg     0.8937    0.8049    0.8313    111799\n",
      "\n",
      "              precision    recall  f1-score   support\n",
      "\n",
      "         未提及     0.8819    0.9413    0.9106    188201\n",
      "           负     0.6883    0.5534    0.6135     12789\n",
      "           中     0.6353    0.4739    0.5429     25929\n",
      "           正     0.7842    0.7457    0.7644     73081\n",
      "\n",
      "    accuracy                         0.8367    300000\n",
      "   macro avg     0.7474    0.6786    0.7079    300000\n",
      "weighted avg     0.8285    0.8367    0.8306    300000\n",
      "\n",
      "f1_score_average 0.8359 <class 'float'>\n",
      "val_f1: 0.83590, best_val_f1: 0.83590\n",
      "\n",
      "Epoch 22/25\n",
      "105000/105000 [==============================] - 334s 3ms/step - loss: 9.2934 - preds_0_loss: 0.2155 - preds_1_loss: 0.3039 - preds_2_loss: 0.2898 - preds_3_loss: 0.2930 - preds_4_loss: 0.6017 - preds_5_loss: 0.1194 - preds_6_loss: 0.2992 - preds_7_loss: 0.7216 - preds_8_loss: 0.4590 - preds_9_loss: 0.5272 - preds_10_loss: 0.4794 - preds_11_loss: 0.4475 - preds_12_loss: 0.5170 - preds_13_loss: 0.4822 - preds_14_loss: 0.7095 - preds_15_loss: 0.6098 - preds_16_loss: 0.6269 - preds_17_loss: 0.4130 - preds_18_loss: 0.5637 - preds_19_loss: 0.6145 - preds_0_accuracy: 0.9380 - preds_1_accuracy: 0.8890 - preds_2_accuracy: 0.9108 - preds_3_accuracy: 0.9062 - preds_4_accuracy: 0.7686 - preds_5_accuracy: 0.9686 - preds_6_accuracy: 0.9157 - preds_7_accuracy: 0.7335 - preds_8_accuracy: 0.8448 - preds_9_accuracy: 0.8142 - preds_10_accuracy: 0.8344 - preds_11_accuracy: 0.8465 - preds_12_accuracy: 0.8172 - preds_13_accuracy: 0.8380 - preds_14_accuracy: 0.7337 - preds_15_accuracy: 0.7382 - preds_16_accuracy: 0.7708 - preds_17_accuracy: 0.8705 - preds_18_accuracy: 0.7821 - preds_19_accuracy: 0.7328\n",
      "15000/15000 [==============================] - 9s 570us/step\n"
     ]
    },
    {
     "name": "stderr",
     "output_type": "stream",
     "text": [
      "/home/powerop/.pyenv/versions/python37/lib/python3.7/site-packages/sklearn/metrics/_classification.py:1248: UndefinedMetricWarning: Recall and F-score are ill-defined and being set to 0.0 in samples with no true labels. Use `zero_division` parameter to control this behavior.\n",
      "  _warn_prf(average, modifier, msg_start, len(result))\n"
     ]
    },
    {
     "name": "stdout",
     "output_type": "stream",
     "text": [
      "                                          precision    recall  f1-score   support\n",
      "\n",
      "            location_traffic_convenience     0.8979    0.8569    0.8769      3243\n",
      "location_distance_from_business_district     0.7580    0.6584    0.7047      2968\n",
      "                   location_easy_to_find     0.8858    0.8014    0.8415      3484\n",
      "                       service_wait_time     0.7795    0.5956    0.6752      1763\n",
      "                service_waiters_attitude     0.9128    0.8255    0.8670      9008\n",
      "             service_parking_convenience     0.9430    0.7809    0.8544       954\n",
      "                   service_serving_speed     0.8651    0.6763    0.7591      2323\n",
      "                             price_level     0.8744    0.7682    0.8179      7503\n",
      "                    price_cost_effective     0.8029    0.5815    0.6745      3572\n",
      "                          price_discount     0.8753    0.8182    0.8458      5738\n",
      "                  environment_decoration     0.9006    0.8560    0.8777      7199\n",
      "                       environment_noise     0.8177    0.7019    0.7554      4479\n",
      "                       environment_space     0.8280    0.7611    0.7932      5509\n",
      "                    environment_cleaness     0.8570    0.7528    0.8015      5404\n",
      "                            dish_portion     0.8517    0.6688    0.7493      6888\n",
      "                              dish_taste     0.9656    0.9920    0.9786     14244\n",
      "                               dish_look     0.7732    0.3713    0.5017      4242\n",
      "                     dish_recommendation     0.8181    0.5026    0.6226      2917\n",
      "               others_overall_experience     0.9810    1.0000    0.9904     14715\n",
      "         others_willing_to_consume_again     0.7739    0.5027    0.6095      5646\n",
      "\n",
      "                               micro avg     0.8909    0.7850    0.8346    111799\n",
      "                               macro avg     0.8581    0.7236    0.7798    111799\n",
      "                            weighted avg     0.8823    0.7850    0.8257    111799\n",
      "                             samples avg     0.8963    0.8023    0.8308    111799\n",
      "\n",
      "              precision    recall  f1-score   support\n",
      "\n",
      "         未提及     0.8807    0.9429    0.9108    188201\n",
      "           负     0.6968    0.5463    0.6124     12789\n",
      "           中     0.6363    0.4696    0.5404     25929\n",
      "           正     0.7847    0.7445    0.7641     73081\n",
      "\n",
      "    accuracy                         0.8368    300000\n",
      "   macro avg     0.7496    0.6758    0.7069    300000\n",
      "weighted avg     0.8283    0.8368    0.8303    300000\n",
      "\n",
      "f1_score_average 0.8357 <class 'float'>\n",
      "val_f1: 0.83570, best_val_f1: 0.83590\n",
      "\n",
      "Epoch 23/25\n",
      "105000/105000 [==============================] - 334s 3ms/step - loss: 9.2800 - preds_0_loss: 0.2145 - preds_1_loss: 0.3036 - preds_2_loss: 0.2896 - preds_3_loss: 0.2934 - preds_4_loss: 0.6020 - preds_5_loss: 0.1187 - preds_6_loss: 0.2984 - preds_7_loss: 0.7211 - preds_8_loss: 0.4588 - preds_9_loss: 0.5263 - preds_10_loss: 0.4783 - preds_11_loss: 0.4467 - preds_12_loss: 0.5177 - preds_13_loss: 0.4810 - preds_14_loss: 0.7088 - preds_15_loss: 0.6088 - preds_16_loss: 0.6264 - preds_17_loss: 0.4116 - preds_18_loss: 0.5623 - preds_19_loss: 0.6120 - preds_0_accuracy: 0.9381 - preds_1_accuracy: 0.8889 - preds_2_accuracy: 0.9104 - preds_3_accuracy: 0.9064 - preds_4_accuracy: 0.7683 - preds_5_accuracy: 0.9687 - preds_6_accuracy: 0.9161 - preds_7_accuracy: 0.7338 - preds_8_accuracy: 0.8450 - preds_9_accuracy: 0.8132 - preds_10_accuracy: 0.8344 - preds_11_accuracy: 0.8468 - preds_12_accuracy: 0.8162 - preds_13_accuracy: 0.8377 - preds_14_accuracy: 0.7336 - preds_15_accuracy: 0.7375 - preds_16_accuracy: 0.7710 - preds_17_accuracy: 0.8711 - preds_18_accuracy: 0.7824 - preds_19_accuracy: 0.7347\n",
      "15000/15000 [==============================] - 9s 568us/step\n"
     ]
    },
    {
     "name": "stderr",
     "output_type": "stream",
     "text": [
      "/home/powerop/.pyenv/versions/python37/lib/python3.7/site-packages/sklearn/metrics/_classification.py:1248: UndefinedMetricWarning: Recall and F-score are ill-defined and being set to 0.0 in samples with no true labels. Use `zero_division` parameter to control this behavior.\n",
      "  _warn_prf(average, modifier, msg_start, len(result))\n"
     ]
    },
    {
     "name": "stdout",
     "output_type": "stream",
     "text": [
      "                                          precision    recall  f1-score   support\n",
      "\n",
      "            location_traffic_convenience     0.8983    0.8554    0.8763      3243\n",
      "location_distance_from_business_district     0.7464    0.6715    0.7070      2968\n",
      "                   location_easy_to_find     0.8834    0.8042    0.8419      3484\n",
      "                       service_wait_time     0.7965    0.5440    0.6464      1763\n",
      "                service_waiters_attitude     0.9143    0.8223    0.8659      9008\n",
      "             service_parking_convenience     0.9428    0.7778    0.8524       954\n",
      "                   service_serving_speed     0.8790    0.6599    0.7539      2323\n",
      "                             price_level     0.8807    0.7557    0.8134      7503\n",
      "                    price_cost_effective     0.8048    0.5759    0.6713      3572\n",
      "                          price_discount     0.8809    0.8099    0.8439      5738\n",
      "                  environment_decoration     0.8978    0.8607    0.8789      7199\n",
      "                       environment_noise     0.8118    0.7089    0.7569      4479\n",
      "                       environment_space     0.8267    0.7664    0.7954      5509\n",
      "                    environment_cleaness     0.8661    0.7444    0.8007      5404\n",
      "                            dish_portion     0.8719    0.6462    0.7423      6888\n",
      "                              dish_taste     0.9656    0.9924    0.9788     14244\n",
      "                               dish_look     0.7388    0.4066    0.5246      4242\n",
      "                     dish_recommendation     0.8326    0.4875    0.6149      2917\n",
      "               others_overall_experience     0.9810    1.0000    0.9904     14715\n",
      "         others_willing_to_consume_again     0.7621    0.5106    0.6115      5646\n",
      "\n",
      "                               micro avg     0.8916    0.7829    0.8338    111799\n",
      "                               macro avg     0.8591    0.7200    0.7783    111799\n",
      "                            weighted avg     0.8830    0.7829    0.8251    111799\n",
      "                             samples avg     0.8967    0.8001    0.8298    111799\n",
      "\n",
      "              precision    recall  f1-score   support\n",
      "\n",
      "         未提及     0.8798    0.9435    0.9105    188201\n",
      "           负     0.6941    0.5491    0.6131     12789\n",
      "           中     0.6391    0.4698    0.5416     25929\n",
      "           正     0.7868    0.7428    0.7642     73081\n",
      "\n",
      "    accuracy                         0.8368    300000\n",
      "   macro avg     0.7500    0.6763    0.7073    300000\n",
      "weighted avg     0.8284    0.8368    0.8303    300000\n",
      "\n",
      "f1_score_average 0.8353 <class 'float'>\n",
      "val_f1: 0.83530, best_val_f1: 0.83590\n",
      "\n",
      "Epoch 24/25\n",
      "105000/105000 [==============================] - 335s 3ms/step - loss: 9.2551 - preds_0_loss: 0.2138 - preds_1_loss: 0.3028 - preds_2_loss: 0.2881 - preds_3_loss: 0.2920 - preds_4_loss: 0.5984 - preds_5_loss: 0.1180 - preds_6_loss: 0.2975 - preds_7_loss: 0.7202 - preds_8_loss: 0.4580 - preds_9_loss: 0.5243 - preds_10_loss: 0.4769 - preds_11_loss: 0.4452 - preds_12_loss: 0.5168 - preds_13_loss: 0.4793 - preds_14_loss: 0.7061 - preds_15_loss: 0.6072 - preds_16_loss: 0.6240 - preds_17_loss: 0.4114 - preds_18_loss: 0.5624 - preds_19_loss: 0.6113 - preds_0_accuracy: 0.9380 - preds_1_accuracy: 0.8894 - preds_2_accuracy: 0.9108 - preds_3_accuracy: 0.9066 - preds_4_accuracy: 0.7697 - preds_5_accuracy: 0.9686 - preds_6_accuracy: 0.9161 - preds_7_accuracy: 0.7334 - preds_8_accuracy: 0.8451 - preds_9_accuracy: 0.8132 - preds_10_accuracy: 0.8341 - preds_11_accuracy: 0.8469 - preds_12_accuracy: 0.8177 - preds_13_accuracy: 0.8386 - preds_14_accuracy: 0.7350 - preds_15_accuracy: 0.7381 - preds_16_accuracy: 0.7719 - preds_17_accuracy: 0.8708 - preds_18_accuracy: 0.7826 - preds_19_accuracy: 0.7344\n",
      "15000/15000 [==============================] - 8s 562us/step\n"
     ]
    },
    {
     "name": "stderr",
     "output_type": "stream",
     "text": [
      "/home/powerop/.pyenv/versions/python37/lib/python3.7/site-packages/sklearn/metrics/_classification.py:1248: UndefinedMetricWarning: Recall and F-score are ill-defined and being set to 0.0 in samples with no true labels. Use `zero_division` parameter to control this behavior.\n",
      "  _warn_prf(average, modifier, msg_start, len(result))\n"
     ]
    },
    {
     "name": "stdout",
     "output_type": "stream",
     "text": [
      "                                          precision    recall  f1-score   support\n",
      "\n",
      "            location_traffic_convenience     0.8945    0.8603    0.8771      3243\n",
      "location_distance_from_business_district     0.7400    0.6819    0.7098      2968\n",
      "                   location_easy_to_find     0.8815    0.8074    0.8428      3484\n",
      "                       service_wait_time     0.7746    0.6120    0.6838      1763\n",
      "                service_waiters_attitude     0.9193    0.8204    0.8670      9008\n",
      "             service_parking_convenience     0.9346    0.7945    0.8589       954\n",
      "                   service_serving_speed     0.8441    0.6948    0.7622      2323\n",
      "                             price_level     0.8790    0.7597    0.8150      7503\n",
      "                    price_cost_effective     0.7980    0.5907    0.6789      3572\n",
      "                          price_discount     0.8752    0.8186    0.8459      5738\n",
      "                  environment_decoration     0.9039    0.8530    0.8777      7199\n",
      "                       environment_noise     0.8110    0.7091    0.7566      4479\n",
      "                       environment_space     0.8252    0.7686    0.7959      5509\n",
      "                    environment_cleaness     0.8654    0.7474    0.8021      5404\n",
      "                            dish_portion     0.8424    0.6851    0.7556      6888\n",
      "                              dish_taste     0.9663    0.9913    0.9786     14244\n",
      "                               dish_look     0.7839    0.3531    0.4869      4242\n",
      "                     dish_recommendation     0.8354    0.4837    0.6127      2917\n",
      "               others_overall_experience     0.9810    1.0000    0.9904     14715\n",
      "         others_willing_to_consume_again     0.7582    0.5149    0.6133      5646\n",
      "\n",
      "                               micro avg     0.8896    0.7865    0.8349    111799\n",
      "                               macro avg     0.8557    0.7273    0.7806    111799\n",
      "                            weighted avg     0.8814    0.7865    0.8260    111799\n",
      "                             samples avg     0.8948    0.8036    0.8310    111799\n",
      "\n",
      "              precision    recall  f1-score   support\n",
      "\n",
      "         未提及     0.8814    0.9420    0.9107    188201\n",
      "           负     0.6748    0.5678    0.6167     12789\n",
      "           中     0.6436    0.4628    0.5384     25929\n",
      "           正     0.7845    0.7455    0.7645     73081\n",
      "\n",
      "    accuracy                         0.8367    300000\n",
      "   macro avg     0.7461    0.6795    0.7076    300000\n",
      "weighted avg     0.8284    0.8367    0.8304    300000\n",
      "\n",
      "f1_score_average 0.8358 <class 'float'>\n",
      "val_f1: 0.83580, best_val_f1: 0.83590\n",
      "\n",
      "Epoch 25/25\n",
      "105000/105000 [==============================] - 335s 3ms/step - loss: 9.2407 - preds_0_loss: 0.2137 - preds_1_loss: 0.3013 - preds_2_loss: 0.2879 - preds_3_loss: 0.2910 - preds_4_loss: 0.5988 - preds_5_loss: 0.1178 - preds_6_loss: 0.2973 - preds_7_loss: 0.7183 - preds_8_loss: 0.4569 - preds_9_loss: 0.5241 - preds_10_loss: 0.4761 - preds_11_loss: 0.4450 - preds_12_loss: 0.5153 - preds_13_loss: 0.4784 - preds_14_loss: 0.7043 - preds_15_loss: 0.6060 - preds_16_loss: 0.6233 - preds_17_loss: 0.4114 - preds_18_loss: 0.5610 - preds_19_loss: 0.6120 - preds_0_accuracy: 0.9382 - preds_1_accuracy: 0.8897 - preds_2_accuracy: 0.9111 - preds_3_accuracy: 0.9071 - preds_4_accuracy: 0.7700 - preds_5_accuracy: 0.9690 - preds_6_accuracy: 0.9166 - preds_7_accuracy: 0.7352 - preds_8_accuracy: 0.8459 - preds_9_accuracy: 0.8149 - preds_10_accuracy: 0.8357 - preds_11_accuracy: 0.8468 - preds_12_accuracy: 0.8173 - preds_13_accuracy: 0.8384 - preds_14_accuracy: 0.7354 - preds_15_accuracy: 0.7394 - preds_16_accuracy: 0.7712 - preds_17_accuracy: 0.8710 - preds_18_accuracy: 0.7828 - preds_19_accuracy: 0.7338\n",
      "15000/15000 [==============================] - 9s 572us/step\n"
     ]
    },
    {
     "name": "stderr",
     "output_type": "stream",
     "text": [
      "/home/powerop/.pyenv/versions/python37/lib/python3.7/site-packages/sklearn/metrics/_classification.py:1248: UndefinedMetricWarning: Recall and F-score are ill-defined and being set to 0.0 in samples with no true labels. Use `zero_division` parameter to control this behavior.\n",
      "  _warn_prf(average, modifier, msg_start, len(result))\n"
     ]
    },
    {
     "name": "stdout",
     "output_type": "stream",
     "text": [
      "                                          precision    recall  f1-score   support\n",
      "\n",
      "            location_traffic_convenience     0.8996    0.8566    0.8776      3243\n",
      "location_distance_from_business_district     0.7600    0.6584    0.7055      2968\n",
      "                   location_easy_to_find     0.8860    0.8031    0.8425      3484\n",
      "                       service_wait_time     0.7720    0.6222    0.6891      1763\n",
      "                service_waiters_attitude     0.9194    0.8173    0.8654      9008\n",
      "             service_parking_convenience     0.9359    0.7956    0.8601       954\n",
      "                   service_serving_speed     0.8498    0.6870    0.7598      2323\n",
      "                             price_level     0.8768    0.7610    0.8148      7503\n",
      "                    price_cost_effective     0.8007    0.5882    0.6782      3572\n",
      "                          price_discount     0.8751    0.8203    0.8468      5738\n",
      "                  environment_decoration     0.9011    0.8551    0.8775      7199\n",
      "                       environment_noise     0.8018    0.7254    0.7617      4479\n",
      "                       environment_space     0.8194    0.7767    0.7975      5509\n",
      "                    environment_cleaness     0.8564    0.7572    0.8038      5404\n",
      "                            dish_portion     0.8454    0.6852    0.7570      6888\n",
      "                              dish_taste     0.9657    0.9923    0.9788     14244\n",
      "                               dish_look     0.7556    0.3885    0.5132      4242\n",
      "                     dish_recommendation     0.8137    0.5002    0.6195      2917\n",
      "               others_overall_experience     0.9810    1.0000    0.9904     14715\n",
      "         others_willing_to_consume_again     0.7764    0.4950    0.6046      5646\n",
      "\n",
      "                               micro avg     0.8889    0.7881    0.8355    111799\n",
      "                               macro avg     0.8546    0.7293    0.7822    111799\n",
      "                            weighted avg     0.8804    0.7881    0.8270    111799\n",
      "                             samples avg     0.8942    0.8053    0.8316    111799\n",
      "\n",
      "              precision    recall  f1-score   support\n",
      "\n",
      "         未提及     0.8821    0.9415    0.9108    188201\n",
      "           负     0.6819    0.5648    0.6178     12789\n",
      "           中     0.6380    0.4715    0.5422     25929\n",
      "           正     0.7846    0.7448    0.7642     73081\n",
      "\n",
      "    accuracy                         0.8369    300000\n",
      "   macro avg     0.7466    0.6806    0.7088    300000\n",
      "weighted avg     0.8287    0.8369    0.8307    300000\n",
      "\n",
      "f1_score_average 0.8362 <class 'float'>\n",
      "val_f1: 0.83620, best_val_f1: 0.83620\n",
      "\n"
     ]
    },
    {
     "data": {
      "text/plain": [
       "<keras.callbacks.callbacks.History at 0x7f806c20a650>"
      ]
     },
     "execution_count": 28,
     "metadata": {},
     "output_type": "execute_result"
    }
   ],
   "source": [
    "evaluator = Evaluator()\n",
    "\n",
    "model.fit(\n",
    "    train_input, [train_label[i] for i in range(num_classes_topic)], \n",
    "    batch_size=batch_size,\n",
    "    epochs=epochs,\n",
    "    callbacks=[evaluator]\n",
    ")"
   ]
  },
  {
   "cell_type": "code",
   "execution_count": 29,
   "metadata": {
    "Collapsed": "false"
   },
   "outputs": [
    {
     "name": "stdout",
     "output_type": "stream",
     "text": [
      "15000/15000 [==============================] - 8s 539us/step\n"
     ]
    },
    {
     "name": "stderr",
     "output_type": "stream",
     "text": [
      "/home/powerop/.pyenv/versions/python37/lib/python3.7/site-packages/sklearn/metrics/_classification.py:1248: UndefinedMetricWarning: Recall and F-score are ill-defined and being set to 0.0 in samples with no true labels. Use `zero_division` parameter to control this behavior.\n",
      "  _warn_prf(average, modifier, msg_start, len(result))\n"
     ]
    },
    {
     "name": "stdout",
     "output_type": "stream",
     "text": [
      "                                          precision    recall  f1-score   support\n",
      "\n",
      "            location_traffic_convenience     0.8996    0.8566    0.8776      3243\n",
      "location_distance_from_business_district     0.7600    0.6584    0.7055      2968\n",
      "                   location_easy_to_find     0.8860    0.8031    0.8425      3484\n",
      "                       service_wait_time     0.7720    0.6222    0.6891      1763\n",
      "                service_waiters_attitude     0.9194    0.8173    0.8654      9008\n",
      "             service_parking_convenience     0.9359    0.7956    0.8601       954\n",
      "                   service_serving_speed     0.8498    0.6870    0.7598      2323\n",
      "                             price_level     0.8768    0.7610    0.8148      7503\n",
      "                    price_cost_effective     0.8007    0.5882    0.6782      3572\n",
      "                          price_discount     0.8751    0.8203    0.8468      5738\n",
      "                  environment_decoration     0.9011    0.8551    0.8775      7199\n",
      "                       environment_noise     0.8018    0.7254    0.7617      4479\n",
      "                       environment_space     0.8194    0.7767    0.7975      5509\n",
      "                    environment_cleaness     0.8564    0.7572    0.8038      5404\n",
      "                            dish_portion     0.8454    0.6852    0.7570      6888\n",
      "                              dish_taste     0.9657    0.9923    0.9788     14244\n",
      "                               dish_look     0.7556    0.3885    0.5132      4242\n",
      "                     dish_recommendation     0.8137    0.5002    0.6195      2917\n",
      "               others_overall_experience     0.9810    1.0000    0.9904     14715\n",
      "         others_willing_to_consume_again     0.7764    0.4950    0.6046      5646\n",
      "\n",
      "                               micro avg     0.8889    0.7881    0.8355    111799\n",
      "                               macro avg     0.8546    0.7293    0.7822    111799\n",
      "                            weighted avg     0.8804    0.7881    0.8270    111799\n",
      "                             samples avg     0.8942    0.8053    0.8316    111799\n",
      "\n",
      "              precision    recall  f1-score   support\n",
      "\n",
      "         未提及     0.8821    0.9415    0.9108    188201\n",
      "           负     0.6819    0.5648    0.6178     12789\n",
      "           中     0.6380    0.4715    0.5422     25929\n",
      "           正     0.7846    0.7448    0.7642     73081\n",
      "\n",
      "    accuracy                         0.8369    300000\n",
      "   macro avg     0.7466    0.6806    0.7088    300000\n",
      "weighted avg     0.8287    0.8369    0.8307    300000\n",
      "\n",
      "f1_score_average 0.8362 <class 'float'>\n",
      "final valid f1: 0.836200\n",
      "\n"
     ]
    }
   ],
   "source": [
    "model.load_weights('model/best_model_tag_sentiment.weights')\n",
    "print(u'final valid f1: %05f\\n' % (evaluate(valid_input, valid_label)))"
   ]
  },
  {
   "cell_type": "code",
   "execution_count": null,
   "metadata": {
    "Collapsed": "false"
   },
   "outputs": [],
   "source": []
  },
  {
   "cell_type": "code",
   "execution_count": null,
   "metadata": {
    "Collapsed": "false"
   },
   "outputs": [],
   "source": []
  },
  {
   "cell_type": "code",
   "execution_count": null,
   "metadata": {
    "Collapsed": "false"
   },
   "outputs": [],
   "source": []
  },
  {
   "cell_type": "code",
   "execution_count": null,
   "metadata": {
    "Collapsed": "false"
   },
   "outputs": [],
   "source": []
  },
  {
   "cell_type": "code",
   "execution_count": null,
   "metadata": {
    "Collapsed": "false"
   },
   "outputs": [],
   "source": []
  },
  {
   "cell_type": "code",
   "execution_count": null,
   "metadata": {
    "Collapsed": "false"
   },
   "outputs": [],
   "source": []
  },
  {
   "cell_type": "code",
   "execution_count": null,
   "metadata": {
    "Collapsed": "false"
   },
   "outputs": [],
   "source": []
  }
 ],
 "metadata": {
  "kernelspec": {
   "display_name": "python37",
   "language": "python",
   "name": "python37"
  },
  "language_info": {
   "codemirror_mode": {
    "name": "ipython",
    "version": 3
   },
   "file_extension": ".py",
   "mimetype": "text/x-python",
   "name": "python",
   "nbconvert_exporter": "python",
   "pygments_lexer": "ipython3",
   "version": "3.7.10"
  }
 },
 "nbformat": 4,
 "nbformat_minor": 4
}
